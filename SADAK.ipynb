{
  "cells": [
    {
      "cell_type": "code",
      "execution_count": 2,
      "metadata": {
        "colab": {
          "base_uri": "https://localhost:8080/"
        },
        "id": "lK-LfjIES4bh",
        "outputId": "ef62f2f2-900a-4173-de8f-52f50bb312c7"
      },
      "outputs": [
        {
          "name": "stdout",
          "output_type": "stream",
          "text": [
            "Cloning into 'S.A.D.A.K'...\n",
            "remote: Enumerating objects: 2669, done.\u001b[K\n",
            "remote: Counting objects: 100% (312/312), done.\u001b[K\n",
            "remote: Compressing objects: 100% (172/172), done.\u001b[K\n",
            "remote: Total 2669 (delta 139), reused 312 (delta 139), pack-reused 2357\u001b[K\n",
            "Receiving objects: 100% (2669/2669), 485.05 MiB | 24.61 MiB/s, done.\n",
            "Resolving deltas: 100% (864/864), done.\n",
            "Updating files: 100% (3555/3555), done.\n"
          ]
        }
      ],
      "source": [
        "!git clone https://github.com/that-coding-kid/S.A.D.A.K.git"
      ]
    },
    {
      "cell_type": "code",
      "execution_count": 1,
      "metadata": {
        "colab": {
          "base_uri": "https://localhost:8080/"
        },
        "id": "A2oteWTYTOBP",
        "outputId": "8cb627fd-2262-43f9-a760-5908858616d4"
      },
      "outputs": [
        {
          "name": "stdout",
          "output_type": "stream",
          "text": [
            "\u001b[0m\u001b[01;34mdatasets\u001b[0m/       model_train.py         SADAK.ipynb\n",
            "\u001b[01;34mdatasets-yolo\u001b[0m/  pascal_voc_to_yolo.py  tiny-yolov3.pt\n"
          ]
        }
      ],
      "source": [
        "%ls"
      ]
    },
    {
      "cell_type": "code",
      "execution_count": 1,
      "metadata": {
        "id": "9BchltC8UBb4"
      },
      "outputs": [],
      "source": [
        "!pip install cython pillow>=7.0.0 numpy>=1.18.1 opencv-python>=4.1.2 torch>=1.9.0 --extra-index-url https://download.pytorch.org/whl/cpu torchvision>=0.10.0 --extra-index-url https://download.pytorch.org/whl/cpu pytest==7.1.3 tqdm==4.64.1 scipy>=1.7.3 matplotlib>=3.4.3 mock==4.0.3"
      ]
    },
    {
      "cell_type": "code",
      "execution_count": 2,
      "metadata": {
        "id": "5IFmOek_UDNq"
      },
      "outputs": [],
      "source": [
        "!pip install cython pillow>=7.0.0 numpy>=1.18.1 opencv-python>=4.1.2 torch>=1.9.0 --extra-index-url https://download.pytorch.org/whl/cu102 torchvision>=0.10.0 --extra-index-url https://download.pytorch.org/whl/cu102 pytest==7.1.3 tqdm==4.64.1 scipy>=1.7.3 matplotlib>=3.4.3 mock==4.0.3"
      ]
    },
    {
      "cell_type": "code",
      "execution_count": 5,
      "metadata": {
        "colab": {
          "base_uri": "https://localhost:8080/"
        },
        "id": "BibEgizrUM8u",
        "outputId": "2d21b52d-b334-4f22-937e-b2aca96a9c1c"
      },
      "outputs": [
        {
          "name": "stdout",
          "output_type": "stream",
          "text": [
            "Defaulting to user installation because normal site-packages is not writeable\n",
            "Requirement already satisfied: imageai in /home/ayush/.local/lib/python3.10/site-packages (3.0.3)\n"
          ]
        }
      ],
      "source": [
        "!pip install imageai --upgrade"
      ]
    },
    {
      "cell_type": "code",
      "execution_count": 1,
      "metadata": {
        "colab": {
          "base_uri": "https://localhost:8080/"
        },
        "id": "kp5_p0Y5Udn4",
        "outputId": "53bdbd4a-1c93-4e8d-aacd-333785c9be48"
      },
      "outputs": [
        {
          "name": "stderr",
          "output_type": "stream",
          "text": [
            "/home/ayush/.local/lib/python3.10/site-packages/imageai/Detection/Custom/yolo/dataset.py:80: UserWarning: loadtxt: input contained no data: \"datasets-yolo/train/annotations/Datacluster Traffic Sign (34).txt\"\n",
            "  l = np.loadtxt(label_path).reshape(-1,5)\n",
            "/home/ayush/.local/lib/python3.10/site-packages/imageai/Detection/Custom/yolo/dataset.py:80: UserWarning: loadtxt: input contained no data: \"datasets-yolo/train/annotations/Datacluster Traffic Sign (29).txt\"\n",
            "  l = np.loadtxt(label_path).reshape(-1,5)\n",
            "/home/ayush/.local/lib/python3.10/site-packages/imageai/Detection/Custom/yolo/dataset.py:80: UserWarning: loadtxt: input contained no data: \"datasets-yolo/train/annotations/Datacluster Traffic Sign (69).txt\"\n",
            "  l = np.loadtxt(label_path).reshape(-1,5)\n",
            "/home/ayush/.local/lib/python3.10/site-packages/imageai/Detection/Custom/yolo/dataset.py:80: UserWarning: loadtxt: input contained no data: \"datasets-yolo/train/annotations/Datacluster Traffic Sign (17).txt\"\n",
            "  l = np.loadtxt(label_path).reshape(-1,5)\n",
            "/home/ayush/.local/lib/python3.10/site-packages/imageai/Detection/Custom/yolo/dataset.py:80: UserWarning: loadtxt: input contained no data: \"datasets-yolo/train/annotations/Datacluster Traffic Sign (13).txt\"\n",
            "  l = np.loadtxt(label_path).reshape(-1,5)\n",
            "/home/ayush/.local/lib/python3.10/site-packages/imageai/Detection/Custom/yolo/dataset.py:80: UserWarning: loadtxt: input contained no data: \"datasets-yolo/train/annotations/Datacluster Traffic Sign (15).txt\"\n",
            "  l = np.loadtxt(label_path).reshape(-1,5)\n",
            "/home/ayush/.local/lib/python3.10/site-packages/imageai/Detection/Custom/yolo/dataset.py:80: UserWarning: loadtxt: input contained no data: \"datasets-yolo/train/annotations/000024_r_jpg.rf.4de7f9577cf35d2208603bfa72125f06.txt\"\n",
            "  l = np.loadtxt(label_path).reshape(-1,5)\n",
            "/home/ayush/.local/lib/python3.10/site-packages/imageai/Detection/Custom/yolo/dataset.py:80: UserWarning: loadtxt: input contained no data: \"datasets-yolo/train/annotations/Datacluster Traffic Sign (50).txt\"\n",
            "  l = np.loadtxt(label_path).reshape(-1,5)\n",
            "/home/ayush/.local/lib/python3.10/site-packages/imageai/Detection/Custom/yolo/dataset.py:80: UserWarning: loadtxt: input contained no data: \"datasets-yolo/train/annotations/Datacluster Traffic Sign (19).txt\"\n",
            "  l = np.loadtxt(label_path).reshape(-1,5)\n",
            "/home/ayush/.local/lib/python3.10/site-packages/imageai/Detection/Custom/yolo/dataset.py:80: UserWarning: loadtxt: input contained no data: \"datasets-yolo/train/annotations/Datacluster Traffic Sign (40).txt\"\n",
            "  l = np.loadtxt(label_path).reshape(-1,5)\n",
            "/home/ayush/.local/lib/python3.10/site-packages/imageai/Detection/Custom/yolo/dataset.py:80: UserWarning: loadtxt: input contained no data: \"datasets-yolo/train/annotations/Datacluster Traffic Sign (105).txt\"\n",
            "  l = np.loadtxt(label_path).reshape(-1,5)\n",
            "/home/ayush/.local/lib/python3.10/site-packages/imageai/Detection/Custom/yolo/dataset.py:80: UserWarning: loadtxt: input contained no data: \"datasets-yolo/train/annotations/Datacluster Traffic Sign (33).txt\"\n",
            "  l = np.loadtxt(label_path).reshape(-1,5)\n",
            "/home/ayush/.local/lib/python3.10/site-packages/imageai/Detection/Custom/yolo/dataset.py:80: UserWarning: loadtxt: input contained no data: \"datasets-yolo/train/annotations/Datacluster Traffic Sign (21).txt\"\n",
            "  l = np.loadtxt(label_path).reshape(-1,5)\n",
            "/home/ayush/.local/lib/python3.10/site-packages/imageai/Detection/Custom/yolo/dataset.py:80: UserWarning: loadtxt: input contained no data: \"datasets-yolo/train/annotations/Datacluster Traffic Sign (9).txt\"\n",
            "  l = np.loadtxt(label_path).reshape(-1,5)\n",
            "/home/ayush/.local/lib/python3.10/site-packages/imageai/Detection/Custom/yolo/dataset.py:80: UserWarning: loadtxt: input contained no data: \"datasets-yolo/train/annotations/Datacluster Traffic Sign (46).txt\"\n",
            "  l = np.loadtxt(label_path).reshape(-1,5)\n",
            "/home/ayush/.local/lib/python3.10/site-packages/imageai/Detection/Custom/yolo/dataset.py:80: UserWarning: loadtxt: input contained no data: \"datasets-yolo/train/annotations/KakaoTalk_20230407_154711521_04_jpg.rf.fd0b0dcdc3ec099f0094d71e604e0ac7.txt\"\n",
            "  l = np.loadtxt(label_path).reshape(-1,5)\n",
            "/home/ayush/.local/lib/python3.10/site-packages/imageai/Detection/Custom/yolo/dataset.py:80: UserWarning: loadtxt: input contained no data: \"datasets-yolo/train/annotations/KakaoTalk_20230407_154711521_05_jpg.rf.985f24482a80ed1087303d94b8ad72e5.txt\"\n",
            "  l = np.loadtxt(label_path).reshape(-1,5)\n",
            "/home/ayush/.local/lib/python3.10/site-packages/imageai/Detection/Custom/yolo/dataset.py:80: UserWarning: loadtxt: input contained no data: \"datasets-yolo/train/annotations/Datacluster Traffic Sign (109).txt\"\n",
            "  l = np.loadtxt(label_path).reshape(-1,5)\n",
            "/home/ayush/.local/lib/python3.10/site-packages/imageai/Detection/Custom/yolo/dataset.py:80: UserWarning: loadtxt: input contained no data: \"datasets-yolo/train/annotations/Datacluster Traffic Sign (16).txt\"\n",
            "  l = np.loadtxt(label_path).reshape(-1,5)\n",
            "/home/ayush/.local/lib/python3.10/site-packages/imageai/Detection/Custom/yolo/dataset.py:80: UserWarning: loadtxt: input contained no data: \"datasets-yolo/train/annotations/Datacluster Traffic Sign (23).txt\"\n",
            "  l = np.loadtxt(label_path).reshape(-1,5)\n",
            "/home/ayush/.local/lib/python3.10/site-packages/imageai/Detection/Custom/yolo/dataset.py:80: UserWarning: loadtxt: input contained no data: \"datasets-yolo/train/annotations/Datacluster Traffic Sign (84).txt\"\n",
            "  l = np.loadtxt(label_path).reshape(-1,5)\n",
            "/home/ayush/.local/lib/python3.10/site-packages/imageai/Detection/Custom/yolo/dataset.py:80: UserWarning: loadtxt: input contained no data: \"datasets-yolo/train/annotations/Datacluster Traffic Sign (18).txt\"\n",
            "  l = np.loadtxt(label_path).reshape(-1,5)\n",
            "/home/ayush/.local/lib/python3.10/site-packages/imageai/Detection/Custom/yolo/dataset.py:80: UserWarning: loadtxt: input contained no data: \"datasets-yolo/validation/annotations/KakaoTalk_20230407_154711521_09_jpg.rf.4f93285d643b81e3bbea2af14b139106.txt\"\n",
            "  l = np.loadtxt(label_path).reshape(-1,5)\n",
            "/home/ayush/.local/lib/python3.10/site-packages/imageai/Detection/Custom/yolo/dataset.py:80: UserWarning: loadtxt: input contained no data: \"datasets-yolo/validation/annotations/Datacluster Traffic Sign (128).txt\"\n",
            "  l = np.loadtxt(label_path).reshape(-1,5)\n"
          ]
        },
        {
          "name": "stdout",
          "output_type": "stream",
          "text": [
            "WARNING: Extremely small objects found. 23 of 1235 labels are < 3 pixels in size.\n",
            "Generating anchor boxes for training images...\n",
            "thr=0.25: 0.9644 best possible recall, 3.60 anchors past thr\n",
            "n=6, img_size=416, metric_all=0.356/0.693-mean/best, past_thr=0.502-mean: \n",
            "====================\n",
            "Pretrained YOLOv3 model loaded to initialize weights\n",
            "====================\n",
            "Epoch 1/100\n",
            "----------\n",
            "Train: \n"
          ]
        },
        {
          "name": "stderr",
          "output_type": "stream",
          "text": [
            "20it [00:15,  1.28it/s]\n"
          ]
        },
        {
          "name": "stdout",
          "output_type": "stream",
          "text": [
            "    box loss-> 0.07184, object loss-> 0.46336, class loss-> 0.03202\n",
            "Validation:\n"
          ]
        },
        {
          "name": "stderr",
          "output_type": "stream",
          "text": [
            "18it [01:17,  4.31s/it]\n"
          ]
        },
        {
          "name": "stdout",
          "output_type": "stream",
          "text": [
            "    recall: 0.003171 precision: 0.001097 mAP@0.5: 0.000370, mAP@0.5-0.95: 0.000076\n",
            "\n",
            "Epoch 2/100\n",
            "----------\n",
            "Train: \n"
          ]
        },
        {
          "name": "stderr",
          "output_type": "stream",
          "text": [
            "20it [00:15,  1.31it/s]\n"
          ]
        },
        {
          "name": "stdout",
          "output_type": "stream",
          "text": [
            "    box loss-> 0.06776, object loss-> 0.07934, class loss-> 0.02580\n",
            "Validation:\n"
          ]
        },
        {
          "name": "stderr",
          "output_type": "stream",
          "text": [
            "18it [01:09,  3.83s/it]\n"
          ]
        },
        {
          "name": "stdout",
          "output_type": "stream",
          "text": [
            "    recall: 0.047862 precision: 0.004444 mAP@0.5: 0.001424, mAP@0.5-0.95: 0.000282\n",
            "\n",
            "Epoch 3/100\n",
            "----------\n",
            "Train: \n"
          ]
        },
        {
          "name": "stderr",
          "output_type": "stream",
          "text": [
            "20it [00:15,  1.33it/s]\n"
          ]
        },
        {
          "name": "stdout",
          "output_type": "stream",
          "text": [
            "    box loss-> 0.06543, object loss-> 0.06998, class loss-> 0.02124\n",
            "Validation:\n"
          ]
        },
        {
          "name": "stderr",
          "output_type": "stream",
          "text": [
            "18it [01:01,  3.41s/it]\n"
          ]
        },
        {
          "name": "stdout",
          "output_type": "stream",
          "text": [
            "    recall: 0.037526 precision: 0.273275 mAP@0.5: 0.011061, mAP@0.5-0.95: 0.001995\n",
            "\n",
            "Epoch 4/100\n",
            "----------\n",
            "Train: \n"
          ]
        },
        {
          "name": "stderr",
          "output_type": "stream",
          "text": [
            "20it [00:15,  1.32it/s]\n"
          ]
        },
        {
          "name": "stdout",
          "output_type": "stream",
          "text": [
            "    box loss-> 0.06327, object loss-> 0.06916, class loss-> 0.01746\n",
            "Validation:\n"
          ]
        },
        {
          "name": "stderr",
          "output_type": "stream",
          "text": [
            "18it [00:59,  3.33s/it]\n"
          ]
        },
        {
          "name": "stdout",
          "output_type": "stream",
          "text": [
            "    recall: 0.038584 precision: 0.275388 mAP@0.5: 0.010791, mAP@0.5-0.95: 0.001922\n",
            "\n",
            "Epoch 5/100\n",
            "----------\n",
            "Train: \n"
          ]
        },
        {
          "name": "stderr",
          "output_type": "stream",
          "text": [
            "20it [00:14,  1.36it/s]\n"
          ]
        },
        {
          "name": "stdout",
          "output_type": "stream",
          "text": [
            "    box loss-> 0.06192, object loss-> 0.06723, class loss-> 0.01565\n",
            "Validation:\n"
          ]
        },
        {
          "name": "stderr",
          "output_type": "stream",
          "text": [
            "18it [00:57,  3.17s/it]\n"
          ]
        },
        {
          "name": "stdout",
          "output_type": "stream",
          "text": [
            "    recall: 0.052326 precision: 0.278832 mAP@0.5: 0.014047, mAP@0.5-0.95: 0.003257\n",
            "\n",
            "Epoch 6/100\n",
            "----------\n",
            "Train: \n"
          ]
        },
        {
          "name": "stderr",
          "output_type": "stream",
          "text": [
            "20it [00:15,  1.30it/s]\n"
          ]
        },
        {
          "name": "stdout",
          "output_type": "stream",
          "text": [
            "    box loss-> 0.06039, object loss-> 0.06676, class loss-> 0.01302\n",
            "Validation:\n"
          ]
        },
        {
          "name": "stderr",
          "output_type": "stream",
          "text": [
            "18it [00:56,  3.14s/it]\n"
          ]
        },
        {
          "name": "stdout",
          "output_type": "stream",
          "text": [
            "    recall: 0.042812 precision: 0.288604 mAP@0.5: 0.016531, mAP@0.5-0.95: 0.003800\n",
            "\n",
            "Epoch 7/100\n",
            "----------\n",
            "Train: \n"
          ]
        },
        {
          "name": "stderr",
          "output_type": "stream",
          "text": [
            "20it [00:15,  1.28it/s]\n"
          ]
        },
        {
          "name": "stdout",
          "output_type": "stream",
          "text": [
            "    box loss-> 0.05837, object loss-> 0.06505, class loss-> 0.01141\n",
            "Validation:\n"
          ]
        },
        {
          "name": "stderr",
          "output_type": "stream",
          "text": [
            "18it [00:57,  3.20s/it]\n"
          ]
        },
        {
          "name": "stdout",
          "output_type": "stream",
          "text": [
            "    recall: 0.035853 precision: 0.312848 mAP@0.5: 0.020850, mAP@0.5-0.95: 0.004385\n",
            "\n",
            "Epoch 8/100\n",
            "----------\n",
            "Train: \n"
          ]
        },
        {
          "name": "stderr",
          "output_type": "stream",
          "text": [
            "20it [00:15,  1.26it/s]\n"
          ]
        },
        {
          "name": "stdout",
          "output_type": "stream",
          "text": [
            "    box loss-> 0.05684, object loss-> 0.06243, class loss-> 0.01213\n",
            "Validation:\n"
          ]
        },
        {
          "name": "stderr",
          "output_type": "stream",
          "text": [
            "18it [00:53,  2.96s/it]\n"
          ]
        },
        {
          "name": "stdout",
          "output_type": "stream",
          "text": [
            "    recall: 0.049154 precision: 0.301330 mAP@0.5: 0.023072, mAP@0.5-0.95: 0.004778\n",
            "\n",
            "Epoch 9/100\n",
            "----------\n",
            "Train: \n"
          ]
        },
        {
          "name": "stderr",
          "output_type": "stream",
          "text": [
            "20it [00:14,  1.43it/s]\n"
          ]
        },
        {
          "name": "stdout",
          "output_type": "stream",
          "text": [
            "    box loss-> 0.05583, object loss-> 0.06065, class loss-> 0.00969\n",
            "Validation:\n"
          ]
        },
        {
          "name": "stderr",
          "output_type": "stream",
          "text": [
            "18it [00:50,  2.83s/it]\n"
          ]
        },
        {
          "name": "stdout",
          "output_type": "stream",
          "text": [
            "    recall: 0.046949 precision: 0.306965 mAP@0.5: 0.027902, mAP@0.5-0.95: 0.006429\n",
            "\n",
            "Epoch 10/100\n",
            "----------\n",
            "Train: \n"
          ]
        },
        {
          "name": "stderr",
          "output_type": "stream",
          "text": [
            "20it [00:13,  1.45it/s]\n"
          ]
        },
        {
          "name": "stdout",
          "output_type": "stream",
          "text": [
            "    box loss-> 0.05439, object loss-> 0.06078, class loss-> 0.00974\n",
            "Validation:\n"
          ]
        },
        {
          "name": "stderr",
          "output_type": "stream",
          "text": [
            "18it [00:49,  2.78s/it]\n"
          ]
        },
        {
          "name": "stdout",
          "output_type": "stream",
          "text": [
            "    recall: 0.045983 precision: 0.329479 mAP@0.5: 0.033248, mAP@0.5-0.95: 0.007288\n",
            "\n",
            "Epoch 11/100\n",
            "----------\n",
            "Train: \n"
          ]
        },
        {
          "name": "stderr",
          "output_type": "stream",
          "text": [
            "20it [00:13,  1.43it/s]\n"
          ]
        },
        {
          "name": "stdout",
          "output_type": "stream",
          "text": [
            "    box loss-> 0.05286, object loss-> 0.05885, class loss-> 0.00792\n",
            "Validation:\n"
          ]
        },
        {
          "name": "stderr",
          "output_type": "stream",
          "text": [
            "18it [00:49,  2.73s/it]\n"
          ]
        },
        {
          "name": "stdout",
          "output_type": "stream",
          "text": [
            "    recall: 0.054968 precision: 0.319409 mAP@0.5: 0.036921, mAP@0.5-0.95: 0.008003\n",
            "\n",
            "Epoch 12/100\n",
            "----------\n",
            "Train: \n"
          ]
        },
        {
          "name": "stderr",
          "output_type": "stream",
          "text": [
            "20it [00:14,  1.42it/s]\n"
          ]
        },
        {
          "name": "stdout",
          "output_type": "stream",
          "text": [
            "    box loss-> 0.05178, object loss-> 0.06102, class loss-> 0.00726\n",
            "Validation:\n"
          ]
        },
        {
          "name": "stderr",
          "output_type": "stream",
          "text": [
            "18it [00:46,  2.59s/it]\n"
          ]
        },
        {
          "name": "stdout",
          "output_type": "stream",
          "text": [
            "    recall: 0.067653 precision: 0.313928 mAP@0.5: 0.040535, mAP@0.5-0.95: 0.009111\n",
            "\n",
            "Epoch 13/100\n",
            "----------\n",
            "Train: \n"
          ]
        },
        {
          "name": "stderr",
          "output_type": "stream",
          "text": [
            "20it [00:13,  1.43it/s]\n"
          ]
        },
        {
          "name": "stdout",
          "output_type": "stream",
          "text": [
            "    box loss-> 0.05048, object loss-> 0.05863, class loss-> 0.00650\n",
            "Validation:\n"
          ]
        },
        {
          "name": "stderr",
          "output_type": "stream",
          "text": [
            "18it [00:47,  2.63s/it]\n"
          ]
        },
        {
          "name": "stdout",
          "output_type": "stream",
          "text": [
            "    recall: 0.062368 precision: 0.318239 mAP@0.5: 0.036720, mAP@0.5-0.95: 0.009850\n",
            "\n",
            "Epoch 14/100\n",
            "----------\n",
            "Train: \n"
          ]
        },
        {
          "name": "stderr",
          "output_type": "stream",
          "text": [
            "20it [00:14,  1.43it/s]\n"
          ]
        },
        {
          "name": "stdout",
          "output_type": "stream",
          "text": [
            "    box loss-> 0.04984, object loss-> 0.05543, class loss-> 0.00805\n",
            "Validation:\n"
          ]
        },
        {
          "name": "stderr",
          "output_type": "stream",
          "text": [
            "18it [00:46,  2.57s/it]\n"
          ]
        },
        {
          "name": "stdout",
          "output_type": "stream",
          "text": [
            "    recall: 0.126615 precision: 0.071363 mAP@0.5: 0.055280, mAP@0.5-0.95: 0.012124\n",
            "\n",
            "Epoch 15/100\n",
            "----------\n",
            "Train: \n"
          ]
        },
        {
          "name": "stderr",
          "output_type": "stream",
          "text": [
            "20it [00:14,  1.39it/s]\n"
          ]
        },
        {
          "name": "stdout",
          "output_type": "stream",
          "text": [
            "    box loss-> 0.04901, object loss-> 0.05473, class loss-> 0.00588\n",
            "Validation:\n"
          ]
        },
        {
          "name": "stderr",
          "output_type": "stream",
          "text": [
            "18it [00:43,  2.41s/it]\n"
          ]
        },
        {
          "name": "stdout",
          "output_type": "stream",
          "text": [
            "    recall: 0.087940 precision: 0.245913 mAP@0.5: 0.075565, mAP@0.5-0.95: 0.014036\n",
            "\n",
            "Epoch 16/100\n",
            "----------\n",
            "Train: \n"
          ]
        },
        {
          "name": "stderr",
          "output_type": "stream",
          "text": [
            "20it [00:13,  1.44it/s]\n"
          ]
        },
        {
          "name": "stdout",
          "output_type": "stream",
          "text": [
            "    box loss-> 0.04719, object loss-> 0.05175, class loss-> 0.00523\n",
            "Validation:\n"
          ]
        },
        {
          "name": "stderr",
          "output_type": "stream",
          "text": [
            "18it [00:43,  2.41s/it]\n"
          ]
        },
        {
          "name": "stdout",
          "output_type": "stream",
          "text": [
            "    recall: 0.083803 precision: 0.206231 mAP@0.5: 0.083585, mAP@0.5-0.95: 0.017360\n",
            "\n",
            "Epoch 17/100\n",
            "----------\n",
            "Train: \n"
          ]
        },
        {
          "name": "stderr",
          "output_type": "stream",
          "text": [
            "20it [00:13,  1.45it/s]\n"
          ]
        },
        {
          "name": "stdout",
          "output_type": "stream",
          "text": [
            "    box loss-> 0.04536, object loss-> 0.05258, class loss-> 0.00591\n",
            "Validation:\n"
          ]
        },
        {
          "name": "stderr",
          "output_type": "stream",
          "text": [
            "18it [00:40,  2.28s/it]\n"
          ]
        },
        {
          "name": "stdout",
          "output_type": "stream",
          "text": [
            "    recall: 0.116866 precision: 0.208476 mAP@0.5: 0.081386, mAP@0.5-0.95: 0.022097\n",
            "\n",
            "Epoch 18/100\n",
            "----------\n",
            "Train: \n"
          ]
        },
        {
          "name": "stderr",
          "output_type": "stream",
          "text": [
            "20it [00:13,  1.44it/s]\n"
          ]
        },
        {
          "name": "stdout",
          "output_type": "stream",
          "text": [
            "    box loss-> 0.04534, object loss-> 0.04978, class loss-> 0.00455\n",
            "Validation:\n"
          ]
        },
        {
          "name": "stderr",
          "output_type": "stream",
          "text": [
            "18it [00:38,  2.16s/it]\n"
          ]
        },
        {
          "name": "stdout",
          "output_type": "stream",
          "text": [
            "    recall: 0.126909 precision: 0.201620 mAP@0.5: 0.111633, mAP@0.5-0.95: 0.026091\n",
            "\n",
            "Epoch 19/100\n",
            "----------\n",
            "Train: \n"
          ]
        },
        {
          "name": "stderr",
          "output_type": "stream",
          "text": [
            "20it [00:14,  1.43it/s]\n"
          ]
        },
        {
          "name": "stdout",
          "output_type": "stream",
          "text": [
            "    box loss-> 0.04336, object loss-> 0.05055, class loss-> 0.00414\n",
            "Validation:\n"
          ]
        },
        {
          "name": "stderr",
          "output_type": "stream",
          "text": [
            "18it [00:36,  2.01s/it]\n"
          ]
        },
        {
          "name": "stdout",
          "output_type": "stream",
          "text": [
            "    recall: 0.148872 precision: 0.212262 mAP@0.5: 0.127230, mAP@0.5-0.95: 0.040124\n",
            "\n",
            "Epoch 20/100\n",
            "----------\n",
            "Train: \n"
          ]
        },
        {
          "name": "stderr",
          "output_type": "stream",
          "text": [
            "20it [00:14,  1.42it/s]\n"
          ]
        },
        {
          "name": "stdout",
          "output_type": "stream",
          "text": [
            "    box loss-> 0.04234, object loss-> 0.04533, class loss-> 0.00370\n",
            "Validation:\n"
          ]
        },
        {
          "name": "stderr",
          "output_type": "stream",
          "text": [
            "18it [00:35,  1.96s/it]\n"
          ]
        },
        {
          "name": "stdout",
          "output_type": "stream",
          "text": [
            "    recall: 0.155215 precision: 0.473626 mAP@0.5: 0.149445, mAP@0.5-0.95: 0.039655\n",
            "\n",
            "Epoch 21/100\n",
            "----------\n",
            "Train: \n"
          ]
        },
        {
          "name": "stderr",
          "output_type": "stream",
          "text": [
            "20it [00:13,  1.46it/s]\n"
          ]
        },
        {
          "name": "stdout",
          "output_type": "stream",
          "text": [
            "    box loss-> 0.04265, object loss-> 0.04395, class loss-> 0.00354\n",
            "Validation:\n"
          ]
        },
        {
          "name": "stderr",
          "output_type": "stream",
          "text": [
            "18it [00:34,  1.89s/it]\n"
          ]
        },
        {
          "name": "stdout",
          "output_type": "stream",
          "text": [
            "    recall: 0.125519 precision: 0.861969 mAP@0.5: 0.159568, mAP@0.5-0.95: 0.040456\n",
            "\n",
            "Epoch 22/100\n",
            "----------\n",
            "Train: \n"
          ]
        },
        {
          "name": "stderr",
          "output_type": "stream",
          "text": [
            "20it [00:14,  1.42it/s]\n"
          ]
        },
        {
          "name": "stdout",
          "output_type": "stream",
          "text": [
            "    box loss-> 0.04152, object loss-> 0.04573, class loss-> 0.00327\n",
            "Validation:\n"
          ]
        },
        {
          "name": "stderr",
          "output_type": "stream",
          "text": [
            "18it [00:30,  1.71s/it]\n"
          ]
        },
        {
          "name": "stdout",
          "output_type": "stream",
          "text": [
            "    recall: 0.176543 precision: 0.288069 mAP@0.5: 0.125732, mAP@0.5-0.95: 0.047049\n",
            "\n",
            "Epoch 23/100\n",
            "----------\n",
            "Train: \n"
          ]
        },
        {
          "name": "stderr",
          "output_type": "stream",
          "text": [
            "20it [00:13,  1.45it/s]\n"
          ]
        },
        {
          "name": "stdout",
          "output_type": "stream",
          "text": [
            "    box loss-> 0.03958, object loss-> 0.04128, class loss-> 0.00295\n",
            "Validation:\n"
          ]
        },
        {
          "name": "stderr",
          "output_type": "stream",
          "text": [
            "18it [00:30,  1.67s/it]\n"
          ]
        },
        {
          "name": "stdout",
          "output_type": "stream",
          "text": [
            "    recall: 0.176706 precision: 0.417497 mAP@0.5: 0.167222, mAP@0.5-0.95: 0.062453\n",
            "\n",
            "Epoch 24/100\n",
            "----------\n",
            "Train: \n"
          ]
        },
        {
          "name": "stderr",
          "output_type": "stream",
          "text": [
            "20it [00:14,  1.42it/s]\n"
          ]
        },
        {
          "name": "stdout",
          "output_type": "stream",
          "text": [
            "    box loss-> 0.03939, object loss-> 0.04098, class loss-> 0.00360\n",
            "Validation:\n"
          ]
        },
        {
          "name": "stderr",
          "output_type": "stream",
          "text": [
            "18it [00:28,  1.60s/it]\n"
          ]
        },
        {
          "name": "stdout",
          "output_type": "stream",
          "text": [
            "    recall: 0.242882 precision: 0.345569 mAP@0.5: 0.196382, mAP@0.5-0.95: 0.057062\n",
            "\n",
            "Epoch 25/100\n",
            "----------\n",
            "Train: \n"
          ]
        },
        {
          "name": "stderr",
          "output_type": "stream",
          "text": [
            "20it [00:13,  1.51it/s]\n"
          ]
        },
        {
          "name": "stdout",
          "output_type": "stream",
          "text": [
            "    box loss-> 0.04264, object loss-> 0.03898, class loss-> 0.00277\n",
            "Validation:\n"
          ]
        },
        {
          "name": "stderr",
          "output_type": "stream",
          "text": [
            "18it [00:27,  1.55s/it]\n"
          ]
        },
        {
          "name": "stdout",
          "output_type": "stream",
          "text": [
            "    recall: 0.297590 precision: 0.328945 mAP@0.5: 0.190934, mAP@0.5-0.95: 0.050192\n",
            "\n",
            "Epoch 26/100\n",
            "----------\n",
            "Train: \n"
          ]
        },
        {
          "name": "stderr",
          "output_type": "stream",
          "text": [
            "20it [00:13,  1.45it/s]\n"
          ]
        },
        {
          "name": "stdout",
          "output_type": "stream",
          "text": [
            "    box loss-> 0.04296, object loss-> 0.04055, class loss-> 0.00272\n",
            "Validation:\n"
          ]
        },
        {
          "name": "stderr",
          "output_type": "stream",
          "text": [
            "18it [00:27,  1.52s/it]\n"
          ]
        },
        {
          "name": "stdout",
          "output_type": "stream",
          "text": [
            "    recall: 0.272908 precision: 0.547505 mAP@0.5: 0.223490, mAP@0.5-0.95: 0.059756\n",
            "\n",
            "Epoch 27/100\n",
            "----------\n",
            "Train: \n"
          ]
        },
        {
          "name": "stderr",
          "output_type": "stream",
          "text": [
            "20it [00:13,  1.48it/s]\n"
          ]
        },
        {
          "name": "stdout",
          "output_type": "stream",
          "text": [
            "    box loss-> 0.04082, object loss-> 0.04000, class loss-> 0.00282\n",
            "Validation:\n"
          ]
        },
        {
          "name": "stderr",
          "output_type": "stream",
          "text": [
            "18it [00:26,  1.48s/it]\n"
          ]
        },
        {
          "name": "stdout",
          "output_type": "stream",
          "text": [
            "    recall: 0.270346 precision: 0.433928 mAP@0.5: 0.208400, mAP@0.5-0.95: 0.058009\n",
            "\n",
            "Epoch 28/100\n",
            "----------\n",
            "Train: \n"
          ]
        },
        {
          "name": "stderr",
          "output_type": "stream",
          "text": [
            "20it [00:13,  1.51it/s]\n"
          ]
        },
        {
          "name": "stdout",
          "output_type": "stream",
          "text": [
            "    box loss-> 0.04020, object loss-> 0.03615, class loss-> 0.00311\n",
            "Validation:\n"
          ]
        },
        {
          "name": "stderr",
          "output_type": "stream",
          "text": [
            "18it [00:25,  1.40s/it]\n"
          ]
        },
        {
          "name": "stdout",
          "output_type": "stream",
          "text": [
            "    recall: 0.263543 precision: 0.397566 mAP@0.5: 0.212173, mAP@0.5-0.95: 0.064115\n",
            "\n",
            "Epoch 29/100\n",
            "----------\n",
            "Train: \n"
          ]
        },
        {
          "name": "stderr",
          "output_type": "stream",
          "text": [
            "20it [00:13,  1.45it/s]\n"
          ]
        },
        {
          "name": "stdout",
          "output_type": "stream",
          "text": [
            "    box loss-> 0.04030, object loss-> 0.03655, class loss-> 0.00277\n",
            "Validation:\n"
          ]
        },
        {
          "name": "stderr",
          "output_type": "stream",
          "text": [
            "18it [00:23,  1.32s/it]\n"
          ]
        },
        {
          "name": "stdout",
          "output_type": "stream",
          "text": [
            "    recall: 0.278978 precision: 0.389702 mAP@0.5: 0.187986, mAP@0.5-0.95: 0.053422\n",
            "\n",
            "Epoch 30/100\n",
            "----------\n",
            "Train: \n"
          ]
        },
        {
          "name": "stderr",
          "output_type": "stream",
          "text": [
            "20it [00:13,  1.44it/s]\n"
          ]
        },
        {
          "name": "stdout",
          "output_type": "stream",
          "text": [
            "    box loss-> 0.03824, object loss-> 0.03580, class loss-> 0.00267\n",
            "Validation:\n"
          ]
        },
        {
          "name": "stderr",
          "output_type": "stream",
          "text": [
            "18it [00:22,  1.27s/it]\n"
          ]
        },
        {
          "name": "stdout",
          "output_type": "stream",
          "text": [
            "    recall: 0.252786 precision: 0.336239 mAP@0.5: 0.165128, mAP@0.5-0.95: 0.042936\n",
            "\n",
            "Epoch 31/100\n",
            "----------\n",
            "Train: \n"
          ]
        },
        {
          "name": "stderr",
          "output_type": "stream",
          "text": [
            "20it [00:13,  1.49it/s]\n"
          ]
        },
        {
          "name": "stdout",
          "output_type": "stream",
          "text": [
            "    box loss-> 0.03698, object loss-> 0.04137, class loss-> 0.00237\n",
            "Validation:\n"
          ]
        },
        {
          "name": "stderr",
          "output_type": "stream",
          "text": [
            "18it [00:21,  1.22s/it]\n"
          ]
        },
        {
          "name": "stdout",
          "output_type": "stream",
          "text": [
            "    recall: 0.272578 precision: 0.411968 mAP@0.5: 0.196317, mAP@0.5-0.95: 0.064318\n",
            "\n",
            "Epoch 32/100\n",
            "----------\n",
            "Train: \n"
          ]
        },
        {
          "name": "stderr",
          "output_type": "stream",
          "text": [
            "20it [00:13,  1.51it/s]\n"
          ]
        },
        {
          "name": "stdout",
          "output_type": "stream",
          "text": [
            "    box loss-> 0.03676, object loss-> 0.03394, class loss-> 0.00228\n",
            "Validation:\n"
          ]
        },
        {
          "name": "stderr",
          "output_type": "stream",
          "text": [
            "18it [00:21,  1.20s/it]\n"
          ]
        },
        {
          "name": "stdout",
          "output_type": "stream",
          "text": [
            "    recall: 0.279507 precision: 0.377274 mAP@0.5: 0.219435, mAP@0.5-0.95: 0.067302\n",
            "\n",
            "Epoch 33/100\n",
            "----------\n",
            "Train: \n"
          ]
        },
        {
          "name": "stderr",
          "output_type": "stream",
          "text": [
            "20it [00:13,  1.50it/s]\n"
          ]
        },
        {
          "name": "stdout",
          "output_type": "stream",
          "text": [
            "    box loss-> 0.03635, object loss-> 0.03400, class loss-> 0.00238\n",
            "Validation:\n"
          ]
        },
        {
          "name": "stderr",
          "output_type": "stream",
          "text": [
            "18it [00:20,  1.13s/it]\n"
          ]
        },
        {
          "name": "stdout",
          "output_type": "stream",
          "text": [
            "    recall: 0.362911 precision: 0.376144 mAP@0.5: 0.285863, mAP@0.5-0.95: 0.088261\n",
            "\n",
            "Epoch 34/100\n",
            "----------\n",
            "Train: \n"
          ]
        },
        {
          "name": "stderr",
          "output_type": "stream",
          "text": [
            "20it [00:13,  1.50it/s]\n"
          ]
        },
        {
          "name": "stdout",
          "output_type": "stream",
          "text": [
            "    box loss-> 0.03511, object loss-> 0.03686, class loss-> 0.00222\n",
            "Validation:\n"
          ]
        },
        {
          "name": "stderr",
          "output_type": "stream",
          "text": [
            "18it [00:20,  1.17s/it]\n"
          ]
        },
        {
          "name": "stdout",
          "output_type": "stream",
          "text": [
            "    recall: 0.265128 precision: 0.322524 mAP@0.5: 0.203262, mAP@0.5-0.95: 0.060633\n",
            "\n",
            "Epoch 35/100\n",
            "----------\n",
            "Train: \n"
          ]
        },
        {
          "name": "stderr",
          "output_type": "stream",
          "text": [
            "20it [00:13,  1.47it/s]\n"
          ]
        },
        {
          "name": "stdout",
          "output_type": "stream",
          "text": [
            "    box loss-> 0.03514, object loss-> 0.03232, class loss-> 0.00206\n",
            "Validation:\n"
          ]
        },
        {
          "name": "stderr",
          "output_type": "stream",
          "text": [
            "18it [00:20,  1.15s/it]\n"
          ]
        },
        {
          "name": "stdout",
          "output_type": "stream",
          "text": [
            "    recall: 0.349703 precision: 0.251185 mAP@0.5: 0.202037, mAP@0.5-0.95: 0.060629\n",
            "\n",
            "Epoch 36/100\n",
            "----------\n",
            "Train: \n"
          ]
        },
        {
          "name": "stderr",
          "output_type": "stream",
          "text": [
            "20it [00:13,  1.53it/s]\n"
          ]
        },
        {
          "name": "stdout",
          "output_type": "stream",
          "text": [
            "    box loss-> 0.03486, object loss-> 0.03274, class loss-> 0.00291\n",
            "Validation:\n"
          ]
        },
        {
          "name": "stderr",
          "output_type": "stream",
          "text": [
            "18it [00:17,  1.00it/s]\n"
          ]
        },
        {
          "name": "stdout",
          "output_type": "stream",
          "text": [
            "    recall: 0.280557 precision: 0.547744 mAP@0.5: 0.225946, mAP@0.5-0.95: 0.062518\n",
            "\n",
            "Epoch 37/100\n",
            "----------\n",
            "Train: \n"
          ]
        },
        {
          "name": "stderr",
          "output_type": "stream",
          "text": [
            "20it [00:13,  1.50it/s]\n"
          ]
        },
        {
          "name": "stdout",
          "output_type": "stream",
          "text": [
            "    box loss-> 0.03356, object loss-> 0.03000, class loss-> 0.00201\n",
            "Validation:\n"
          ]
        },
        {
          "name": "stderr",
          "output_type": "stream",
          "text": [
            "18it [00:18,  1.04s/it]\n"
          ]
        },
        {
          "name": "stdout",
          "output_type": "stream",
          "text": [
            "    recall: 0.338132 precision: 0.338793 mAP@0.5: 0.235596, mAP@0.5-0.95: 0.071953\n",
            "\n",
            "Epoch 38/100\n",
            "----------\n",
            "Train: \n"
          ]
        },
        {
          "name": "stderr",
          "output_type": "stream",
          "text": [
            "20it [00:13,  1.52it/s]\n"
          ]
        },
        {
          "name": "stdout",
          "output_type": "stream",
          "text": [
            "    box loss-> 0.03314, object loss-> 0.03020, class loss-> 0.00202\n",
            "Validation:\n"
          ]
        },
        {
          "name": "stderr",
          "output_type": "stream",
          "text": [
            "18it [00:18,  1.05s/it]\n"
          ]
        },
        {
          "name": "stdout",
          "output_type": "stream",
          "text": [
            "    recall: 0.313941 precision: 0.375624 mAP@0.5: 0.249516, mAP@0.5-0.95: 0.063387\n",
            "\n",
            "Epoch 39/100\n",
            "----------\n",
            "Train: \n"
          ]
        },
        {
          "name": "stderr",
          "output_type": "stream",
          "text": [
            "20it [00:13,  1.48it/s]\n"
          ]
        },
        {
          "name": "stdout",
          "output_type": "stream",
          "text": [
            "    box loss-> 0.03157, object loss-> 0.03033, class loss-> 0.00193\n",
            "Validation:\n"
          ]
        },
        {
          "name": "stderr",
          "output_type": "stream",
          "text": [
            "18it [00:16,  1.09it/s]\n"
          ]
        },
        {
          "name": "stdout",
          "output_type": "stream",
          "text": [
            "    recall: 0.329800 precision: 0.357458 mAP@0.5: 0.229270, mAP@0.5-0.95: 0.066259\n",
            "\n",
            "Epoch 40/100\n",
            "----------\n",
            "Train: \n"
          ]
        },
        {
          "name": "stderr",
          "output_type": "stream",
          "text": [
            "20it [00:13,  1.48it/s]\n"
          ]
        },
        {
          "name": "stdout",
          "output_type": "stream",
          "text": [
            "    box loss-> 0.03224, object loss-> 0.02941, class loss-> 0.00183\n",
            "Validation:\n"
          ]
        },
        {
          "name": "stderr",
          "output_type": "stream",
          "text": [
            "18it [00:16,  1.07it/s]\n"
          ]
        },
        {
          "name": "stdout",
          "output_type": "stream",
          "text": [
            "    recall: 0.285630 precision: 0.322583 mAP@0.5: 0.211499, mAP@0.5-0.95: 0.062764\n",
            "\n",
            "Epoch 41/100\n",
            "----------\n",
            "Train: \n"
          ]
        },
        {
          "name": "stderr",
          "output_type": "stream",
          "text": [
            "20it [00:13,  1.49it/s]\n"
          ]
        },
        {
          "name": "stdout",
          "output_type": "stream",
          "text": [
            "    box loss-> 0.03266, object loss-> 0.02885, class loss-> 0.00193\n",
            "Validation:\n"
          ]
        },
        {
          "name": "stderr",
          "output_type": "stream",
          "text": [
            "18it [00:15,  1.19it/s]\n"
          ]
        },
        {
          "name": "stdout",
          "output_type": "stream",
          "text": [
            "    recall: 0.413609 precision: 0.329584 mAP@0.5: 0.270859, mAP@0.5-0.95: 0.082454\n",
            "\n",
            "Epoch 42/100\n",
            "----------\n",
            "Train: \n"
          ]
        },
        {
          "name": "stderr",
          "output_type": "stream",
          "text": [
            "20it [00:13,  1.46it/s]\n"
          ]
        },
        {
          "name": "stdout",
          "output_type": "stream",
          "text": [
            "    box loss-> 0.03053, object loss-> 0.02987, class loss-> 0.00174\n",
            "Validation:\n"
          ]
        },
        {
          "name": "stderr",
          "output_type": "stream",
          "text": [
            "18it [00:15,  1.16it/s]\n"
          ]
        },
        {
          "name": "stdout",
          "output_type": "stream",
          "text": [
            "    recall: 0.445060 precision: 0.346806 mAP@0.5: 0.300946, mAP@0.5-0.95: 0.079282\n",
            "\n",
            "Epoch 43/100\n",
            "----------\n",
            "Train: \n"
          ]
        },
        {
          "name": "stderr",
          "output_type": "stream",
          "text": [
            "20it [00:13,  1.49it/s]\n"
          ]
        },
        {
          "name": "stdout",
          "output_type": "stream",
          "text": [
            "    box loss-> 0.03042, object loss-> 0.02853, class loss-> 0.00176\n",
            "Validation:\n"
          ]
        },
        {
          "name": "stderr",
          "output_type": "stream",
          "text": [
            "18it [00:15,  1.17it/s]\n"
          ]
        },
        {
          "name": "stdout",
          "output_type": "stream",
          "text": [
            "    recall: 0.401515 precision: 0.345028 mAP@0.5: 0.290590, mAP@0.5-0.95: 0.081800\n",
            "\n",
            "Epoch 44/100\n",
            "----------\n",
            "Train: \n"
          ]
        },
        {
          "name": "stderr",
          "output_type": "stream",
          "text": [
            "20it [00:13,  1.49it/s]\n"
          ]
        },
        {
          "name": "stdout",
          "output_type": "stream",
          "text": [
            "    box loss-> 0.02724, object loss-> 0.02826, class loss-> 0.00200\n",
            "Validation:\n"
          ]
        },
        {
          "name": "stderr",
          "output_type": "stream",
          "text": [
            "18it [00:16,  1.06it/s]\n"
          ]
        },
        {
          "name": "stdout",
          "output_type": "stream",
          "text": [
            "    recall: 0.387105 precision: 0.320923 mAP@0.5: 0.228669, mAP@0.5-0.95: 0.065470\n",
            "\n",
            "Epoch 45/100\n",
            "----------\n",
            "Train: \n"
          ]
        },
        {
          "name": "stderr",
          "output_type": "stream",
          "text": [
            "20it [00:13,  1.52it/s]\n"
          ]
        },
        {
          "name": "stdout",
          "output_type": "stream",
          "text": [
            "    box loss-> 0.02830, object loss-> 0.02762, class loss-> 0.00158\n",
            "Validation:\n"
          ]
        },
        {
          "name": "stderr",
          "output_type": "stream",
          "text": [
            "18it [00:14,  1.25it/s]\n"
          ]
        },
        {
          "name": "stdout",
          "output_type": "stream",
          "text": [
            "    recall: 0.362618 precision: 0.307890 mAP@0.5: 0.236295, mAP@0.5-0.95: 0.067446\n",
            "\n",
            "Epoch 46/100\n",
            "----------\n",
            "Train: \n"
          ]
        },
        {
          "name": "stderr",
          "output_type": "stream",
          "text": [
            "20it [00:13,  1.49it/s]\n"
          ]
        },
        {
          "name": "stdout",
          "output_type": "stream",
          "text": [
            "    box loss-> 0.02794, object loss-> 0.02703, class loss-> 0.00157\n",
            "Validation:\n"
          ]
        },
        {
          "name": "stderr",
          "output_type": "stream",
          "text": [
            "18it [00:13,  1.29it/s]\n"
          ]
        },
        {
          "name": "stdout",
          "output_type": "stream",
          "text": [
            "    recall: 0.336490 precision: 0.420354 mAP@0.5: 0.283905, mAP@0.5-0.95: 0.073279\n",
            "\n",
            "Epoch 47/100\n",
            "----------\n",
            "Train: \n"
          ]
        },
        {
          "name": "stderr",
          "output_type": "stream",
          "text": [
            "20it [00:13,  1.46it/s]\n"
          ]
        },
        {
          "name": "stdout",
          "output_type": "stream",
          "text": [
            "    box loss-> 0.02722, object loss-> 0.02682, class loss-> 0.00182\n",
            "Validation:\n"
          ]
        },
        {
          "name": "stderr",
          "output_type": "stream",
          "text": [
            "18it [00:12,  1.39it/s]\n"
          ]
        },
        {
          "name": "stdout",
          "output_type": "stream",
          "text": [
            "    recall: 0.421089 precision: 0.266936 mAP@0.5: 0.232552, mAP@0.5-0.95: 0.067908\n",
            "\n",
            "Epoch 48/100\n",
            "----------\n",
            "Train: \n"
          ]
        },
        {
          "name": "stderr",
          "output_type": "stream",
          "text": [
            "20it [00:13,  1.52it/s]\n"
          ]
        },
        {
          "name": "stdout",
          "output_type": "stream",
          "text": [
            "    box loss-> 0.02637, object loss-> 0.02361, class loss-> 0.00140\n",
            "Validation:\n"
          ]
        },
        {
          "name": "stderr",
          "output_type": "stream",
          "text": [
            "18it [00:13,  1.33it/s]\n"
          ]
        },
        {
          "name": "stdout",
          "output_type": "stream",
          "text": [
            "    recall: 0.390152 precision: 0.345594 mAP@0.5: 0.247786, mAP@0.5-0.95: 0.078873\n",
            "\n",
            "Epoch 49/100\n",
            "----------\n",
            "Train: \n"
          ]
        },
        {
          "name": "stderr",
          "output_type": "stream",
          "text": [
            "20it [00:13,  1.48it/s]\n"
          ]
        },
        {
          "name": "stdout",
          "output_type": "stream",
          "text": [
            "    box loss-> 0.02664, object loss-> 0.02354, class loss-> 0.00174\n",
            "Validation:\n"
          ]
        },
        {
          "name": "stderr",
          "output_type": "stream",
          "text": [
            "18it [00:13,  1.37it/s]\n"
          ]
        },
        {
          "name": "stdout",
          "output_type": "stream",
          "text": [
            "    recall: 0.370562 precision: 0.428363 mAP@0.5: 0.300312, mAP@0.5-0.95: 0.080638\n",
            "\n",
            "Epoch 50/100\n",
            "----------\n",
            "Train: \n"
          ]
        },
        {
          "name": "stderr",
          "output_type": "stream",
          "text": [
            "20it [00:13,  1.50it/s]\n"
          ]
        },
        {
          "name": "stdout",
          "output_type": "stream",
          "text": [
            "    box loss-> 0.02676, object loss-> 0.02418, class loss-> 0.00139\n",
            "Validation:\n"
          ]
        },
        {
          "name": "stderr",
          "output_type": "stream",
          "text": [
            "18it [00:12,  1.45it/s]\n"
          ]
        },
        {
          "name": "stdout",
          "output_type": "stream",
          "text": [
            "    recall: 0.375140 precision: 0.378341 mAP@0.5: 0.263902, mAP@0.5-0.95: 0.074559\n",
            "\n",
            "Epoch 51/100\n",
            "----------\n",
            "Train: \n"
          ]
        },
        {
          "name": "stderr",
          "output_type": "stream",
          "text": [
            "20it [00:13,  1.46it/s]\n"
          ]
        },
        {
          "name": "stdout",
          "output_type": "stream",
          "text": [
            "    box loss-> 0.02672, object loss-> 0.02854, class loss-> 0.00148\n",
            "Validation:\n"
          ]
        },
        {
          "name": "stderr",
          "output_type": "stream",
          "text": [
            "18it [00:12,  1.41it/s]\n"
          ]
        },
        {
          "name": "stdout",
          "output_type": "stream",
          "text": [
            "    recall: 0.318941 precision: 0.491499 mAP@0.5: 0.267673, mAP@0.5-0.95: 0.077993\n",
            "\n",
            "Epoch 52/100\n",
            "----------\n",
            "Train: \n"
          ]
        },
        {
          "name": "stderr",
          "output_type": "stream",
          "text": [
            "20it [00:13,  1.47it/s]\n"
          ]
        },
        {
          "name": "stdout",
          "output_type": "stream",
          "text": [
            "    box loss-> 0.02550, object loss-> 0.02440, class loss-> 0.00204\n",
            "Validation:\n"
          ]
        },
        {
          "name": "stderr",
          "output_type": "stream",
          "text": [
            "18it [00:11,  1.55it/s]\n"
          ]
        },
        {
          "name": "stdout",
          "output_type": "stream",
          "text": [
            "    recall: 0.371113 precision: 0.381948 mAP@0.5: 0.297440, mAP@0.5-0.95: 0.071879\n",
            "\n",
            "Epoch 53/100\n",
            "----------\n",
            "Train: \n"
          ]
        },
        {
          "name": "stderr",
          "output_type": "stream",
          "text": [
            "20it [00:13,  1.49it/s]\n"
          ]
        },
        {
          "name": "stdout",
          "output_type": "stream",
          "text": [
            "    box loss-> 0.02382, object loss-> 0.02202, class loss-> 0.00147\n",
            "Validation:\n"
          ]
        },
        {
          "name": "stderr",
          "output_type": "stream",
          "text": [
            "18it [00:12,  1.40it/s]\n"
          ]
        },
        {
          "name": "stdout",
          "output_type": "stream",
          "text": [
            "    recall: 0.377207 precision: 0.303668 mAP@0.5: 0.241489, mAP@0.5-0.95: 0.069154\n",
            "\n",
            "Epoch 54/100\n",
            "----------\n",
            "Train: \n"
          ]
        },
        {
          "name": "stderr",
          "output_type": "stream",
          "text": [
            "20it [00:13,  1.52it/s]\n"
          ]
        },
        {
          "name": "stdout",
          "output_type": "stream",
          "text": [
            "    box loss-> 0.02426, object loss-> 0.02317, class loss-> 0.00125\n",
            "Validation:\n"
          ]
        },
        {
          "name": "stderr",
          "output_type": "stream",
          "text": [
            "18it [00:11,  1.55it/s]\n"
          ]
        },
        {
          "name": "stdout",
          "output_type": "stream",
          "text": [
            "    recall: 0.306881 precision: 0.456281 mAP@0.5: 0.266734, mAP@0.5-0.95: 0.071886\n",
            "\n",
            "Epoch 55/100\n",
            "----------\n",
            "Train: \n"
          ]
        },
        {
          "name": "stderr",
          "output_type": "stream",
          "text": [
            "20it [00:13,  1.49it/s]\n"
          ]
        },
        {
          "name": "stdout",
          "output_type": "stream",
          "text": [
            "    box loss-> 0.02334, object loss-> 0.02240, class loss-> 0.00125\n",
            "Validation:\n"
          ]
        },
        {
          "name": "stderr",
          "output_type": "stream",
          "text": [
            "18it [00:11,  1.61it/s]\n"
          ]
        },
        {
          "name": "stdout",
          "output_type": "stream",
          "text": [
            "    recall: 0.356292 precision: 0.559939 mAP@0.5: 0.318762, mAP@0.5-0.95: 0.091390\n",
            "\n",
            "Epoch 56/100\n",
            "----------\n",
            "Train: \n"
          ]
        },
        {
          "name": "stderr",
          "output_type": "stream",
          "text": [
            "20it [00:13,  1.52it/s]\n"
          ]
        },
        {
          "name": "stdout",
          "output_type": "stream",
          "text": [
            "    box loss-> 0.02355, object loss-> 0.02334, class loss-> 0.00124\n",
            "Validation:\n"
          ]
        },
        {
          "name": "stderr",
          "output_type": "stream",
          "text": [
            "18it [00:11,  1.62it/s]\n"
          ]
        },
        {
          "name": "stdout",
          "output_type": "stream",
          "text": [
            "    recall: 0.330053 precision: 0.574323 mAP@0.5: 0.305796, mAP@0.5-0.95: 0.082009\n",
            "\n",
            "Epoch 57/100\n",
            "----------\n",
            "Train: \n"
          ]
        },
        {
          "name": "stderr",
          "output_type": "stream",
          "text": [
            "20it [00:13,  1.47it/s]\n"
          ]
        },
        {
          "name": "stdout",
          "output_type": "stream",
          "text": [
            "    box loss-> 0.02348, object loss-> 0.02306, class loss-> 0.00127\n",
            "Validation:\n"
          ]
        },
        {
          "name": "stderr",
          "output_type": "stream",
          "text": [
            "18it [00:11,  1.64it/s]\n"
          ]
        },
        {
          "name": "stdout",
          "output_type": "stream",
          "text": [
            "    recall: 0.333406 precision: 0.451671 mAP@0.5: 0.272635, mAP@0.5-0.95: 0.072457\n",
            "\n",
            "Epoch 58/100\n",
            "----------\n",
            "Train: \n"
          ]
        },
        {
          "name": "stderr",
          "output_type": "stream",
          "text": [
            "20it [00:14,  1.43it/s]\n"
          ]
        },
        {
          "name": "stdout",
          "output_type": "stream",
          "text": [
            "    box loss-> 0.02114, object loss-> 0.02121, class loss-> 0.00124\n",
            "Validation:\n"
          ]
        },
        {
          "name": "stderr",
          "output_type": "stream",
          "text": [
            "18it [00:11,  1.61it/s]\n"
          ]
        },
        {
          "name": "stdout",
          "output_type": "stream",
          "text": [
            "    recall: 0.403275 precision: 0.281276 mAP@0.5: 0.252393, mAP@0.5-0.95: 0.076756\n",
            "\n",
            "Epoch 59/100\n",
            "----------\n",
            "Train: \n"
          ]
        },
        {
          "name": "stderr",
          "output_type": "stream",
          "text": [
            "20it [00:13,  1.49it/s]\n"
          ]
        },
        {
          "name": "stdout",
          "output_type": "stream",
          "text": [
            "    box loss-> 0.02126, object loss-> 0.02216, class loss-> 0.00108\n",
            "Validation:\n"
          ]
        },
        {
          "name": "stderr",
          "output_type": "stream",
          "text": [
            "18it [00:10,  1.78it/s]\n"
          ]
        },
        {
          "name": "stdout",
          "output_type": "stream",
          "text": [
            "    recall: 0.385796 precision: 0.270904 mAP@0.5: 0.257838, mAP@0.5-0.95: 0.072210\n",
            "\n",
            "Epoch 60/100\n",
            "----------\n",
            "Train: \n"
          ]
        },
        {
          "name": "stderr",
          "output_type": "stream",
          "text": [
            "20it [00:13,  1.44it/s]\n"
          ]
        },
        {
          "name": "stdout",
          "output_type": "stream",
          "text": [
            "    box loss-> 0.02227, object loss-> 0.02252, class loss-> 0.00117\n",
            "Validation:\n"
          ]
        },
        {
          "name": "stderr",
          "output_type": "stream",
          "text": [
            "18it [00:11,  1.61it/s]\n"
          ]
        },
        {
          "name": "stdout",
          "output_type": "stream",
          "text": [
            "    recall: 0.339356 precision: 0.434690 mAP@0.5: 0.298283, mAP@0.5-0.95: 0.087262\n",
            "\n",
            "Epoch 61/100\n",
            "----------\n",
            "Train: \n"
          ]
        },
        {
          "name": "stderr",
          "output_type": "stream",
          "text": [
            "20it [00:13,  1.48it/s]\n"
          ]
        },
        {
          "name": "stdout",
          "output_type": "stream",
          "text": [
            "    box loss-> 0.01982, object loss-> 0.02287, class loss-> 0.00115\n",
            "Validation:\n"
          ]
        },
        {
          "name": "stderr",
          "output_type": "stream",
          "text": [
            "18it [00:10,  1.73it/s]\n"
          ]
        },
        {
          "name": "stdout",
          "output_type": "stream",
          "text": [
            "    recall: 0.334681 precision: 0.524811 mAP@0.5: 0.302452, mAP@0.5-0.95: 0.072445\n",
            "\n",
            "Epoch 62/100\n",
            "----------\n",
            "Train: \n"
          ]
        },
        {
          "name": "stderr",
          "output_type": "stream",
          "text": [
            "20it [00:13,  1.51it/s]\n"
          ]
        },
        {
          "name": "stdout",
          "output_type": "stream",
          "text": [
            "    box loss-> 0.02111, object loss-> 0.02200, class loss-> 0.00112\n",
            "Validation:\n"
          ]
        },
        {
          "name": "stderr",
          "output_type": "stream",
          "text": [
            "18it [00:10,  1.68it/s]\n"
          ]
        },
        {
          "name": "stdout",
          "output_type": "stream",
          "text": [
            "    recall: 0.372893 precision: 0.421694 mAP@0.5: 0.291278, mAP@0.5-0.95: 0.083935\n",
            "\n",
            "Epoch 63/100\n",
            "----------\n",
            "Train: \n"
          ]
        },
        {
          "name": "stderr",
          "output_type": "stream",
          "text": [
            "20it [00:13,  1.47it/s]\n"
          ]
        },
        {
          "name": "stdout",
          "output_type": "stream",
          "text": [
            "    box loss-> 0.02049, object loss-> 0.02100, class loss-> 0.00210\n",
            "Validation:\n"
          ]
        },
        {
          "name": "stderr",
          "output_type": "stream",
          "text": [
            "18it [00:10,  1.76it/s]\n"
          ]
        },
        {
          "name": "stdout",
          "output_type": "stream",
          "text": [
            "    recall: 0.443692 precision: 0.338746 mAP@0.5: 0.285101, mAP@0.5-0.95: 0.093245\n",
            "\n",
            "Epoch 64/100\n",
            "----------\n",
            "Train: \n"
          ]
        },
        {
          "name": "stderr",
          "output_type": "stream",
          "text": [
            "20it [00:13,  1.48it/s]\n"
          ]
        },
        {
          "name": "stdout",
          "output_type": "stream",
          "text": [
            "    box loss-> 0.02046, object loss-> 0.02543, class loss-> 0.00100\n",
            "Validation:\n"
          ]
        },
        {
          "name": "stderr",
          "output_type": "stream",
          "text": [
            "18it [00:10,  1.75it/s]\n"
          ]
        },
        {
          "name": "stdout",
          "output_type": "stream",
          "text": [
            "    recall: 0.308794 precision: 0.439351 mAP@0.5: 0.273683, mAP@0.5-0.95: 0.082297\n",
            "\n",
            "Epoch 65/100\n",
            "----------\n",
            "Train: \n"
          ]
        },
        {
          "name": "stderr",
          "output_type": "stream",
          "text": [
            "20it [00:13,  1.53it/s]\n"
          ]
        },
        {
          "name": "stdout",
          "output_type": "stream",
          "text": [
            "    box loss-> 0.01858, object loss-> 0.02117, class loss-> 0.00099\n",
            "Validation:\n"
          ]
        },
        {
          "name": "stderr",
          "output_type": "stream",
          "text": [
            "18it [00:10,  1.76it/s]\n"
          ]
        },
        {
          "name": "stdout",
          "output_type": "stream",
          "text": [
            "    recall: 0.308189 precision: 0.527846 mAP@0.5: 0.289758, mAP@0.5-0.95: 0.073181\n",
            "\n",
            "Epoch 66/100\n",
            "----------\n",
            "Train: \n"
          ]
        },
        {
          "name": "stderr",
          "output_type": "stream",
          "text": [
            "20it [00:13,  1.54it/s]\n"
          ]
        },
        {
          "name": "stdout",
          "output_type": "stream",
          "text": [
            "    box loss-> 0.01883, object loss-> 0.02047, class loss-> 0.00093\n",
            "Validation:\n"
          ]
        },
        {
          "name": "stderr",
          "output_type": "stream",
          "text": [
            "18it [00:09,  1.83it/s]\n"
          ]
        },
        {
          "name": "stdout",
          "output_type": "stream",
          "text": [
            "    recall: 0.340026 precision: 0.353342 mAP@0.5: 0.246409, mAP@0.5-0.95: 0.072757\n",
            "\n",
            "Epoch 67/100\n",
            "----------\n",
            "Train: \n"
          ]
        },
        {
          "name": "stderr",
          "output_type": "stream",
          "text": [
            "20it [00:13,  1.47it/s]\n"
          ]
        },
        {
          "name": "stdout",
          "output_type": "stream",
          "text": [
            "    box loss-> 0.01903, object loss-> 0.01845, class loss-> 0.00100\n",
            "Validation:\n"
          ]
        },
        {
          "name": "stderr",
          "output_type": "stream",
          "text": [
            "18it [00:09,  1.91it/s]\n"
          ]
        },
        {
          "name": "stdout",
          "output_type": "stream",
          "text": [
            "    recall: 0.325596 precision: 0.437968 mAP@0.5: 0.268260, mAP@0.5-0.95: 0.074499\n",
            "\n",
            "Epoch 68/100\n",
            "----------\n",
            "Train: \n"
          ]
        },
        {
          "name": "stderr",
          "output_type": "stream",
          "text": [
            "20it [00:13,  1.52it/s]\n"
          ]
        },
        {
          "name": "stdout",
          "output_type": "stream",
          "text": [
            "    box loss-> 0.01850, object loss-> 0.02330, class loss-> 0.00096\n",
            "Validation:\n"
          ]
        },
        {
          "name": "stderr",
          "output_type": "stream",
          "text": [
            "18it [00:09,  1.81it/s]\n"
          ]
        },
        {
          "name": "stdout",
          "output_type": "stream",
          "text": [
            "    recall: 0.343678 precision: 0.385905 mAP@0.5: 0.269845, mAP@0.5-0.95: 0.065400\n",
            "\n",
            "Epoch 69/100\n",
            "----------\n",
            "Train: \n"
          ]
        },
        {
          "name": "stderr",
          "output_type": "stream",
          "text": [
            "20it [00:13,  1.51it/s]\n"
          ]
        },
        {
          "name": "stdout",
          "output_type": "stream",
          "text": [
            "    box loss-> 0.01751, object loss-> 0.01939, class loss-> 0.00086\n",
            "Validation:\n"
          ]
        },
        {
          "name": "stderr",
          "output_type": "stream",
          "text": [
            "18it [00:09,  1.83it/s]\n"
          ]
        },
        {
          "name": "stdout",
          "output_type": "stream",
          "text": [
            "    recall: 0.317182 precision: 0.378305 mAP@0.5: 0.230012, mAP@0.5-0.95: 0.077489\n",
            "\n",
            "Epoch 70/100\n",
            "----------\n",
            "Train: \n"
          ]
        },
        {
          "name": "stderr",
          "output_type": "stream",
          "text": [
            "20it [00:13,  1.49it/s]\n"
          ]
        },
        {
          "name": "stdout",
          "output_type": "stream",
          "text": [
            "    box loss-> 0.01907, object loss-> 0.02033, class loss-> 0.00089\n",
            "Validation:\n"
          ]
        },
        {
          "name": "stderr",
          "output_type": "stream",
          "text": [
            "18it [00:09,  1.85it/s]\n"
          ]
        },
        {
          "name": "stdout",
          "output_type": "stream",
          "text": [
            "    recall: 0.353919 precision: 0.399647 mAP@0.5: 0.292410, mAP@0.5-0.95: 0.083846\n",
            "\n",
            "Epoch 71/100\n",
            "----------\n",
            "Train: \n"
          ]
        },
        {
          "name": "stderr",
          "output_type": "stream",
          "text": [
            "20it [00:13,  1.51it/s]\n"
          ]
        },
        {
          "name": "stdout",
          "output_type": "stream",
          "text": [
            "    box loss-> 0.01814, object loss-> 0.01778, class loss-> 0.00095\n",
            "Validation:\n"
          ]
        },
        {
          "name": "stderr",
          "output_type": "stream",
          "text": [
            "18it [00:09,  1.97it/s]\n"
          ]
        },
        {
          "name": "stdout",
          "output_type": "stream",
          "text": [
            "    recall: 0.352595 precision: 0.444460 mAP@0.5: 0.306109, mAP@0.5-0.95: 0.078207\n",
            "\n",
            "Epoch 72/100\n",
            "----------\n",
            "Train: \n"
          ]
        },
        {
          "name": "stderr",
          "output_type": "stream",
          "text": [
            "20it [00:13,  1.46it/s]\n"
          ]
        },
        {
          "name": "stdout",
          "output_type": "stream",
          "text": [
            "    box loss-> 0.01731, object loss-> 0.01781, class loss-> 0.00086\n",
            "Validation:\n"
          ]
        },
        {
          "name": "stderr",
          "output_type": "stream",
          "text": [
            "18it [00:09,  1.91it/s]\n"
          ]
        },
        {
          "name": "stdout",
          "output_type": "stream",
          "text": [
            "    recall: 0.347265 precision: 0.328866 mAP@0.5: 0.244702, mAP@0.5-0.95: 0.070168\n",
            "\n",
            "Epoch 73/100\n",
            "----------\n",
            "Train: \n"
          ]
        },
        {
          "name": "stderr",
          "output_type": "stream",
          "text": [
            "20it [00:13,  1.43it/s]\n"
          ]
        },
        {
          "name": "stdout",
          "output_type": "stream",
          "text": [
            "    box loss-> 0.01615, object loss-> 0.01883, class loss-> 0.00078\n",
            "Validation:\n"
          ]
        },
        {
          "name": "stderr",
          "output_type": "stream",
          "text": [
            "18it [00:09,  1.89it/s]\n"
          ]
        },
        {
          "name": "stdout",
          "output_type": "stream",
          "text": [
            "    recall: 0.349426 precision: 0.352494 mAP@0.5: 0.257938, mAP@0.5-0.95: 0.076378\n",
            "\n",
            "Epoch 74/100\n",
            "----------\n",
            "Train: \n"
          ]
        },
        {
          "name": "stderr",
          "output_type": "stream",
          "text": [
            "20it [00:13,  1.50it/s]\n"
          ]
        },
        {
          "name": "stdout",
          "output_type": "stream",
          "text": [
            "    box loss-> 0.01702, object loss-> 0.01935, class loss-> 0.00078\n",
            "Validation:\n"
          ]
        },
        {
          "name": "stderr",
          "output_type": "stream",
          "text": [
            "18it [00:08,  2.04it/s]\n"
          ]
        },
        {
          "name": "stdout",
          "output_type": "stream",
          "text": [
            "    recall: 0.327286 precision: 0.336504 mAP@0.5: 0.231463, mAP@0.5-0.95: 0.069783\n",
            "\n",
            "Epoch 75/100\n",
            "----------\n",
            "Train: \n"
          ]
        },
        {
          "name": "stderr",
          "output_type": "stream",
          "text": [
            "20it [00:13,  1.48it/s]\n"
          ]
        },
        {
          "name": "stdout",
          "output_type": "stream",
          "text": [
            "    box loss-> 0.01619, object loss-> 0.01774, class loss-> 0.00079\n",
            "Validation:\n"
          ]
        },
        {
          "name": "stderr",
          "output_type": "stream",
          "text": [
            "18it [00:09,  1.96it/s]\n"
          ]
        },
        {
          "name": "stdout",
          "output_type": "stream",
          "text": [
            "    recall: 0.370336 precision: 0.333493 mAP@0.5: 0.263721, mAP@0.5-0.95: 0.070931\n",
            "\n",
            "Epoch 76/100\n",
            "----------\n",
            "Train: \n"
          ]
        },
        {
          "name": "stderr",
          "output_type": "stream",
          "text": [
            "20it [00:13,  1.45it/s]\n"
          ]
        },
        {
          "name": "stdout",
          "output_type": "stream",
          "text": [
            "    box loss-> 0.01537, object loss-> 0.01800, class loss-> 0.00077\n",
            "Validation:\n"
          ]
        },
        {
          "name": "stderr",
          "output_type": "stream",
          "text": [
            "18it [00:08,  2.05it/s]\n"
          ]
        },
        {
          "name": "stdout",
          "output_type": "stream",
          "text": [
            "    recall: 0.286233 precision: 0.341944 mAP@0.5: 0.226944, mAP@0.5-0.95: 0.064426\n",
            "\n",
            "Epoch 77/100\n",
            "----------\n",
            "Train: \n"
          ]
        },
        {
          "name": "stderr",
          "output_type": "stream",
          "text": [
            "20it [00:13,  1.43it/s]\n"
          ]
        },
        {
          "name": "stdout",
          "output_type": "stream",
          "text": [
            "    box loss-> 0.01631, object loss-> 0.01631, class loss-> 0.00072\n",
            "Validation:\n"
          ]
        },
        {
          "name": "stderr",
          "output_type": "stream",
          "text": [
            "18it [00:08,  2.07it/s]\n"
          ]
        },
        {
          "name": "stdout",
          "output_type": "stream",
          "text": [
            "    recall: 0.306903 precision: 0.296302 mAP@0.5: 0.228885, mAP@0.5-0.95: 0.075256\n",
            "\n",
            "Epoch 78/100\n",
            "----------\n",
            "Train: \n"
          ]
        },
        {
          "name": "stderr",
          "output_type": "stream",
          "text": [
            "20it [00:13,  1.49it/s]\n"
          ]
        },
        {
          "name": "stdout",
          "output_type": "stream",
          "text": [
            "    box loss-> 0.01535, object loss-> 0.01648, class loss-> 0.00069\n",
            "Validation:\n"
          ]
        },
        {
          "name": "stderr",
          "output_type": "stream",
          "text": [
            "18it [00:08,  2.03it/s]\n"
          ]
        },
        {
          "name": "stdout",
          "output_type": "stream",
          "text": [
            "    recall: 0.351909 precision: 0.301112 mAP@0.5: 0.237206, mAP@0.5-0.95: 0.074054\n",
            "\n",
            "Epoch 79/100\n",
            "----------\n",
            "Train: \n"
          ]
        },
        {
          "name": "stderr",
          "output_type": "stream",
          "text": [
            "20it [00:13,  1.49it/s]\n"
          ]
        },
        {
          "name": "stdout",
          "output_type": "stream",
          "text": [
            "    box loss-> 0.01493, object loss-> 0.01602, class loss-> 0.00067\n",
            "Validation:\n"
          ]
        },
        {
          "name": "stderr",
          "output_type": "stream",
          "text": [
            "18it [00:08,  2.06it/s]\n"
          ]
        },
        {
          "name": "stdout",
          "output_type": "stream",
          "text": [
            "    recall: 0.332280 precision: 0.396568 mAP@0.5: 0.285578, mAP@0.5-0.95: 0.072892\n",
            "\n",
            "Epoch 80/100\n",
            "----------\n",
            "Train: \n"
          ]
        },
        {
          "name": "stderr",
          "output_type": "stream",
          "text": [
            "20it [00:13,  1.52it/s]\n"
          ]
        },
        {
          "name": "stdout",
          "output_type": "stream",
          "text": [
            "    box loss-> 0.01436, object loss-> 0.01519, class loss-> 0.00068\n",
            "Validation:\n"
          ]
        },
        {
          "name": "stderr",
          "output_type": "stream",
          "text": [
            "18it [00:09,  1.97it/s]\n"
          ]
        },
        {
          "name": "stdout",
          "output_type": "stream",
          "text": [
            "    recall: 0.439586 precision: 0.321714 mAP@0.5: 0.290960, mAP@0.5-0.95: 0.084330\n",
            "\n",
            "Epoch 81/100\n",
            "----------\n",
            "Train: \n"
          ]
        },
        {
          "name": "stderr",
          "output_type": "stream",
          "text": [
            "20it [00:13,  1.52it/s]\n"
          ]
        },
        {
          "name": "stdout",
          "output_type": "stream",
          "text": [
            "    box loss-> 0.01434, object loss-> 0.01799, class loss-> 0.00071\n",
            "Validation:\n"
          ]
        },
        {
          "name": "stderr",
          "output_type": "stream",
          "text": [
            "18it [00:09,  1.99it/s]\n"
          ]
        },
        {
          "name": "stdout",
          "output_type": "stream",
          "text": [
            "    recall: 0.359640 precision: 0.400714 mAP@0.5: 0.287912, mAP@0.5-0.95: 0.073435\n",
            "\n",
            "Epoch 82/100\n",
            "----------\n",
            "Train: \n"
          ]
        },
        {
          "name": "stderr",
          "output_type": "stream",
          "text": [
            "20it [00:13,  1.52it/s]\n"
          ]
        },
        {
          "name": "stdout",
          "output_type": "stream",
          "text": [
            "    box loss-> 0.01501, object loss-> 0.01571, class loss-> 0.00069\n",
            "Validation:\n"
          ]
        },
        {
          "name": "stderr",
          "output_type": "stream",
          "text": [
            "18it [00:08,  2.07it/s]\n"
          ]
        },
        {
          "name": "stdout",
          "output_type": "stream",
          "text": [
            "    recall: 0.342759 precision: 0.429379 mAP@0.5: 0.296936, mAP@0.5-0.95: 0.073222\n",
            "\n",
            "Epoch 83/100\n",
            "----------\n",
            "Train: \n"
          ]
        },
        {
          "name": "stderr",
          "output_type": "stream",
          "text": [
            "20it [00:13,  1.48it/s]\n"
          ]
        },
        {
          "name": "stdout",
          "output_type": "stream",
          "text": [
            "    box loss-> 0.01413, object loss-> 0.01517, class loss-> 0.00062\n",
            "Validation:\n"
          ]
        },
        {
          "name": "stderr",
          "output_type": "stream",
          "text": [
            "18it [00:08,  2.01it/s]\n"
          ]
        },
        {
          "name": "stdout",
          "output_type": "stream",
          "text": [
            "    recall: 0.340007 precision: 0.371776 mAP@0.5: 0.243494, mAP@0.5-0.95: 0.070839\n",
            "\n",
            "Epoch 84/100\n",
            "----------\n",
            "Train: \n"
          ]
        },
        {
          "name": "stderr",
          "output_type": "stream",
          "text": [
            "20it [00:13,  1.48it/s]\n"
          ]
        },
        {
          "name": "stdout",
          "output_type": "stream",
          "text": [
            "    box loss-> 0.01383, object loss-> 0.01574, class loss-> 0.00062\n",
            "Validation:\n"
          ]
        },
        {
          "name": "stderr",
          "output_type": "stream",
          "text": [
            "18it [00:08,  2.16it/s]\n"
          ]
        },
        {
          "name": "stdout",
          "output_type": "stream",
          "text": [
            "    recall: 0.344371 precision: 0.470574 mAP@0.5: 0.290430, mAP@0.5-0.95: 0.074755\n",
            "\n",
            "Epoch 85/100\n",
            "----------\n",
            "Train: \n"
          ]
        },
        {
          "name": "stderr",
          "output_type": "stream",
          "text": [
            "20it [00:13,  1.50it/s]\n"
          ]
        },
        {
          "name": "stdout",
          "output_type": "stream",
          "text": [
            "    box loss-> 0.01392, object loss-> 0.01497, class loss-> 0.00060\n",
            "Validation:\n"
          ]
        },
        {
          "name": "stderr",
          "output_type": "stream",
          "text": [
            "18it [00:08,  2.05it/s]\n"
          ]
        },
        {
          "name": "stdout",
          "output_type": "stream",
          "text": [
            "    recall: 0.425798 precision: 0.276372 mAP@0.5: 0.248697, mAP@0.5-0.95: 0.074548\n",
            "\n",
            "Epoch 86/100\n",
            "----------\n",
            "Train: \n"
          ]
        },
        {
          "name": "stderr",
          "output_type": "stream",
          "text": [
            "20it [00:13,  1.46it/s]\n"
          ]
        },
        {
          "name": "stdout",
          "output_type": "stream",
          "text": [
            "    box loss-> 0.01329, object loss-> 0.01468, class loss-> 0.00062\n",
            "Validation:\n"
          ]
        },
        {
          "name": "stderr",
          "output_type": "stream",
          "text": [
            "18it [00:08,  2.05it/s]\n"
          ]
        },
        {
          "name": "stdout",
          "output_type": "stream",
          "text": [
            "    recall: 0.381005 precision: 0.367307 mAP@0.5: 0.289225, mAP@0.5-0.95: 0.081334\n",
            "\n",
            "Epoch 87/100\n",
            "----------\n",
            "Train: \n"
          ]
        },
        {
          "name": "stderr",
          "output_type": "stream",
          "text": [
            "20it [00:13,  1.51it/s]\n"
          ]
        },
        {
          "name": "stdout",
          "output_type": "stream",
          "text": [
            "    box loss-> 0.01370, object loss-> 0.01635, class loss-> 0.00057\n",
            "Validation:\n"
          ]
        },
        {
          "name": "stderr",
          "output_type": "stream",
          "text": [
            "18it [00:08,  2.03it/s]\n"
          ]
        },
        {
          "name": "stdout",
          "output_type": "stream",
          "text": [
            "    recall: 0.348384 precision: 0.430160 mAP@0.5: 0.281770, mAP@0.5-0.95: 0.079686\n",
            "\n",
            "Epoch 88/100\n",
            "----------\n",
            "Train: \n"
          ]
        },
        {
          "name": "stderr",
          "output_type": "stream",
          "text": [
            "20it [00:13,  1.50it/s]\n"
          ]
        },
        {
          "name": "stdout",
          "output_type": "stream",
          "text": [
            "    box loss-> 0.01287, object loss-> 0.01560, class loss-> 0.00055\n",
            "Validation:\n"
          ]
        },
        {
          "name": "stderr",
          "output_type": "stream",
          "text": [
            "18it [00:08,  2.11it/s]\n"
          ]
        },
        {
          "name": "stdout",
          "output_type": "stream",
          "text": [
            "    recall: 0.311164 precision: 0.384500 mAP@0.5: 0.232575, mAP@0.5-0.95: 0.072482\n",
            "\n",
            "Epoch 89/100\n",
            "----------\n",
            "Train: \n"
          ]
        },
        {
          "name": "stderr",
          "output_type": "stream",
          "text": [
            "20it [00:13,  1.51it/s]\n"
          ]
        },
        {
          "name": "stdout",
          "output_type": "stream",
          "text": [
            "    box loss-> 0.01307, object loss-> 0.01433, class loss-> 0.00057\n",
            "Validation:\n"
          ]
        },
        {
          "name": "stderr",
          "output_type": "stream",
          "text": [
            "18it [00:08,  2.11it/s]\n"
          ]
        },
        {
          "name": "stdout",
          "output_type": "stream",
          "text": [
            "    recall: 0.343615 precision: 0.370582 mAP@0.5: 0.284419, mAP@0.5-0.95: 0.074118\n",
            "\n",
            "Epoch 90/100\n",
            "----------\n",
            "Train: \n"
          ]
        },
        {
          "name": "stderr",
          "output_type": "stream",
          "text": [
            "20it [00:13,  1.50it/s]\n"
          ]
        },
        {
          "name": "stdout",
          "output_type": "stream",
          "text": [
            "    box loss-> 0.01308, object loss-> 0.01362, class loss-> 0.00053\n",
            "Validation:\n"
          ]
        },
        {
          "name": "stderr",
          "output_type": "stream",
          "text": [
            "18it [00:08,  2.11it/s]\n"
          ]
        },
        {
          "name": "stdout",
          "output_type": "stream",
          "text": [
            "    recall: 0.344042 precision: 0.328440 mAP@0.5: 0.234067, mAP@0.5-0.95: 0.072355\n",
            "\n",
            "Epoch 91/100\n",
            "----------\n",
            "Train: \n"
          ]
        },
        {
          "name": "stderr",
          "output_type": "stream",
          "text": [
            "20it [00:13,  1.44it/s]\n"
          ]
        },
        {
          "name": "stdout",
          "output_type": "stream",
          "text": [
            "    box loss-> 0.01247, object loss-> 0.01645, class loss-> 0.00051\n",
            "Validation:\n"
          ]
        },
        {
          "name": "stderr",
          "output_type": "stream",
          "text": [
            "18it [00:08,  2.07it/s]\n"
          ]
        },
        {
          "name": "stdout",
          "output_type": "stream",
          "text": [
            "    recall: 0.446046 precision: 0.318112 mAP@0.5: 0.287322, mAP@0.5-0.95: 0.071432\n",
            "\n",
            "Epoch 92/100\n",
            "----------\n",
            "Train: \n"
          ]
        },
        {
          "name": "stderr",
          "output_type": "stream",
          "text": [
            "20it [00:13,  1.50it/s]\n"
          ]
        },
        {
          "name": "stdout",
          "output_type": "stream",
          "text": [
            "    box loss-> 0.01170, object loss-> 0.01347, class loss-> 0.00052\n",
            "Validation:\n"
          ]
        },
        {
          "name": "stderr",
          "output_type": "stream",
          "text": [
            "18it [00:08,  2.16it/s]\n"
          ]
        },
        {
          "name": "stdout",
          "output_type": "stream",
          "text": [
            "    recall: 0.341454 precision: 0.436402 mAP@0.5: 0.285004, mAP@0.5-0.95: 0.075844\n",
            "\n",
            "Epoch 93/100\n",
            "----------\n",
            "Train: \n"
          ]
        },
        {
          "name": "stderr",
          "output_type": "stream",
          "text": [
            "20it [00:13,  1.50it/s]\n"
          ]
        },
        {
          "name": "stdout",
          "output_type": "stream",
          "text": [
            "    box loss-> 0.01196, object loss-> 0.01385, class loss-> 0.00049\n",
            "Validation:\n"
          ]
        },
        {
          "name": "stderr",
          "output_type": "stream",
          "text": [
            "18it [00:08,  2.09it/s]\n"
          ]
        },
        {
          "name": "stdout",
          "output_type": "stream",
          "text": [
            "    recall: 0.338575 precision: 0.380621 mAP@0.5: 0.251720, mAP@0.5-0.95: 0.079820\n",
            "\n",
            "Epoch 94/100\n",
            "----------\n",
            "Train: \n"
          ]
        },
        {
          "name": "stderr",
          "output_type": "stream",
          "text": [
            "20it [00:13,  1.50it/s]\n"
          ]
        },
        {
          "name": "stdout",
          "output_type": "stream",
          "text": [
            "    box loss-> 0.01181, object loss-> 0.01383, class loss-> 0.00048\n",
            "Validation:\n"
          ]
        },
        {
          "name": "stderr",
          "output_type": "stream",
          "text": [
            "18it [00:08,  2.10it/s]\n"
          ]
        },
        {
          "name": "stdout",
          "output_type": "stream",
          "text": [
            "    recall: 0.347527 precision: 0.454061 mAP@0.5: 0.285847, mAP@0.5-0.95: 0.078039\n",
            "\n",
            "Epoch 95/100\n",
            "----------\n",
            "Train: \n"
          ]
        },
        {
          "name": "stderr",
          "output_type": "stream",
          "text": [
            "20it [00:13,  1.46it/s]\n"
          ]
        },
        {
          "name": "stdout",
          "output_type": "stream",
          "text": [
            "    box loss-> 0.01171, object loss-> 0.01385, class loss-> 0.00049\n",
            "Validation:\n"
          ]
        },
        {
          "name": "stderr",
          "output_type": "stream",
          "text": [
            "18it [00:08,  2.14it/s]\n"
          ]
        },
        {
          "name": "stdout",
          "output_type": "stream",
          "text": [
            "    recall: 0.426611 precision: 0.288993 mAP@0.5: 0.247127, mAP@0.5-0.95: 0.074022\n",
            "\n",
            "Epoch 96/100\n",
            "----------\n",
            "Train: \n"
          ]
        },
        {
          "name": "stderr",
          "output_type": "stream",
          "text": [
            "20it [00:13,  1.51it/s]\n"
          ]
        },
        {
          "name": "stdout",
          "output_type": "stream",
          "text": [
            "    box loss-> 0.01152, object loss-> 0.01295, class loss-> 0.00049\n",
            "Validation:\n"
          ]
        },
        {
          "name": "stderr",
          "output_type": "stream",
          "text": [
            "18it [00:08,  2.08it/s]\n"
          ]
        },
        {
          "name": "stdout",
          "output_type": "stream",
          "text": [
            "    recall: 0.343949 precision: 0.460487 mAP@0.5: 0.297474, mAP@0.5-0.95: 0.077168\n",
            "\n",
            "Epoch 97/100\n",
            "----------\n",
            "Train: \n"
          ]
        },
        {
          "name": "stderr",
          "output_type": "stream",
          "text": [
            "20it [00:13,  1.50it/s]\n"
          ]
        },
        {
          "name": "stdout",
          "output_type": "stream",
          "text": [
            "    box loss-> 0.01221, object loss-> 0.01270, class loss-> 0.00046\n",
            "Validation:\n"
          ]
        },
        {
          "name": "stderr",
          "output_type": "stream",
          "text": [
            "18it [00:08,  2.16it/s]\n"
          ]
        },
        {
          "name": "stdout",
          "output_type": "stream",
          "text": [
            "    recall: 0.311678 precision: 0.396532 mAP@0.5: 0.248832, mAP@0.5-0.95: 0.074834\n",
            "\n",
            "Epoch 98/100\n",
            "----------\n",
            "Train: \n"
          ]
        },
        {
          "name": "stderr",
          "output_type": "stream",
          "text": [
            "20it [00:13,  1.50it/s]\n"
          ]
        },
        {
          "name": "stdout",
          "output_type": "stream",
          "text": [
            "    box loss-> 0.01223, object loss-> 0.01586, class loss-> 0.00047\n",
            "Validation:\n"
          ]
        },
        {
          "name": "stderr",
          "output_type": "stream",
          "text": [
            "18it [00:07,  2.27it/s]\n"
          ]
        },
        {
          "name": "stdout",
          "output_type": "stream",
          "text": [
            "    recall: 0.337801 precision: 0.362287 mAP@0.5: 0.234888, mAP@0.5-0.95: 0.070313\n",
            "\n",
            "Epoch 99/100\n",
            "----------\n",
            "Train: \n"
          ]
        },
        {
          "name": "stderr",
          "output_type": "stream",
          "text": [
            "20it [00:13,  1.44it/s]\n"
          ]
        },
        {
          "name": "stdout",
          "output_type": "stream",
          "text": [
            "    box loss-> 0.01106, object loss-> 0.01302, class loss-> 0.00043\n",
            "Validation:\n"
          ]
        },
        {
          "name": "stderr",
          "output_type": "stream",
          "text": [
            "18it [00:08,  2.15it/s]\n"
          ]
        },
        {
          "name": "stdout",
          "output_type": "stream",
          "text": [
            "    recall: 0.337959 precision: 0.367986 mAP@0.5: 0.245630, mAP@0.5-0.95: 0.073504\n",
            "\n",
            "Epoch 100/100\n",
            "----------\n",
            "Train: \n"
          ]
        },
        {
          "name": "stderr",
          "output_type": "stream",
          "text": [
            "20it [00:13,  1.47it/s]\n"
          ]
        },
        {
          "name": "stdout",
          "output_type": "stream",
          "text": [
            "    box loss-> 0.01138, object loss-> 0.01347, class loss-> 0.00052\n",
            "Validation:\n"
          ]
        },
        {
          "name": "stderr",
          "output_type": "stream",
          "text": [
            "18it [00:08,  2.13it/s]"
          ]
        },
        {
          "name": "stdout",
          "output_type": "stream",
          "text": [
            "    recall: 0.340444 precision: 0.388719 mAP@0.5: 0.261109, mAP@0.5-0.95: 0.074618\n",
            "\n",
            "Training completed in 58m 5s\n"
          ]
        },
        {
          "name": "stderr",
          "output_type": "stream",
          "text": [
            "\n"
          ]
        }
      ],
      "source": [
        "from imageai.Detection.Custom import DetectionModelTrainer\n",
        "\n",
        "trainer = DetectionModelTrainer()\n",
        "trainer.setModelTypeAsTinyYOLOv3()\n",
        "trainer.setDataDirectory(data_directory=\"datasets-yolo\")\n",
        "trainer.setTrainConfig(object_names_array=[\"Sewer Cover\", \"traffic_sign\", \"Drain Hole\", \"Pothole\"], batch_size=32, num_experiments=100, train_from_pretrained_model=\"tiny-yolov3.pt\")\n",
        "trainer.trainModel()"
      ]
    },
    {
      "cell_type": "code",
      "execution_count": 4,
      "metadata": {},
      "outputs": [
        {
          "name": "stdout",
          "output_type": "stream",
          "text": [
            "Pothole  :  99.6  :  [1147, 1360, 1329, 1575]\n"
          ]
        }
      ],
      "source": [
        "from imageai.Detection.Custom import CustomObjectDetection\n",
        "\n",
        "detector = CustomObjectDetection()\n",
        "detector.setModelTypeAsTinyYOLOv3()\n",
        "detector.setModelPath(\"/home/ayush/Documents/repos/Traffic_Flow_Optimization/datasets-yolo/models/tiny-yolov3_datasets-yolo_mAP-0.31876_epoch-55.pt\")\n",
        "detector.setJsonPath(\"/home/ayush/Documents/repos/Traffic_Flow_Optimization/datasets-yolo/json/datasets-yolo_tiny-yolov3_detection_config.json\")\n",
        "detector.loadModel()\n",
        "detections = detector.detectObjectsFromImage(input_image=\"/home/ayush/Documents/repos/Traffic_Flow_Optimization/Datacluster Traffic Sign (6).jpg\", output_image_path=\"holo1-detected.jpg\")\n",
        "for detection in detections:\n",
        "    print(detection[\"name\"], \" : \", detection[\"percentage_probability\"], \" : \", detection[\"box_points\"])"
      ]
    },
    {
      "cell_type": "code",
      "execution_count": 13,
      "metadata": {},
      "outputs": [
        {
          "name": "stderr",
          "output_type": "stream",
          "text": [
            "[ WARN:0@14933.840] global cap_v4l.cpp:982 open VIDEOIO(V4L2:/dev/video0): can't open camera by index\n",
            "[ERROR:0@14933.846] global obsensor_uvc_stream_channel.cpp:156 getStreamChannelGroup Camera index out of range\n",
            "[ERROR:0@14933.908] global cap.cpp:164 open VIDEOIO(CV_IMAGES): raised OpenCV exception:\n",
            "\n",
            "OpenCV(4.8.0) /io/opencv/modules/videoio/src/cap_images.cpp:293: error: (-215:Assertion failed) !_filename.empty() in function 'open'\n",
            "\n",
            "\n"
          ]
        },
        {
          "data": {
            "text/plain": [
              "'/home/ayush/Documents/repos/Traffic_Flow_Optimization/holo1-detected3.mp4'"
            ]
          },
          "execution_count": 13,
          "metadata": {},
          "output_type": "execute_result"
        }
      ],
      "source": [
        "from imageai.Detection.Custom import CustomVideoObjectDetection\n",
        "import os\n",
        "import cv2\n",
        "\n",
        "execution_path = os.getcwd()\n",
        "camera = cv2.VideoCapture(0)\n",
        "\n",
        "video_detector = CustomVideoObjectDetection()\n",
        "video_detector.setModelTypeAsTinyYOLOv3()\n",
        "video_detector.setModelPath(\"/home/ayush/Documents/repos/Traffic_Flow_Optimization/datasets-yolo/models/tiny-yolov3_datasets-yolo_mAP-0.31876_epoch-55.pt\")\n",
        "video_detector.setJsonPath(\"/home/ayush/Documents/repos/Traffic_Flow_Optimization/datasets-yolo/json/datasets-yolo_tiny-yolov3_detection_config.json\")\n",
        "video_detector.loadModel()\n",
        "\n",
        "video_detector.detectObjectsFromVideo(camera_input=camera,\n",
        "                                          output_file_path=os.path.join(execution_path, \"holo1-detected3\"),\n",
        "                                          frames_per_second=20,\n",
        "                                          minimum_percentage_probability=40,\n",
        "                                          log_progress=True)"
      ]
    }
  ],
  "metadata": {
    "accelerator": "GPU",
    "colab": {
      "gpuType": "T4",
      "provenance": []
    },
    "kernelspec": {
      "display_name": "Python 3",
      "name": "python3"
    },
    "language_info": {
      "codemirror_mode": {
        "name": "ipython",
        "version": 3
      },
      "file_extension": ".py",
      "mimetype": "text/x-python",
      "name": "python",
      "nbconvert_exporter": "python",
      "pygments_lexer": "ipython3",
      "version": "3.10.12"
    }
  },
  "nbformat": 4,
  "nbformat_minor": 0
}
