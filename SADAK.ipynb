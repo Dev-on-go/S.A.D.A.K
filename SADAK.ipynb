{
  "cells": [
    {
      "cell_type": "code",
      "execution_count": 2,
      "metadata": {
        "colab": {
          "base_uri": "https://localhost:8080/"
        },
        "id": "lK-LfjIES4bh",
        "outputId": "ef62f2f2-900a-4173-de8f-52f50bb312c7"
      },
      "outputs": [
        {
          "output_type": "stream",
          "name": "stdout",
          "text": [
            "Cloning into 'S.A.D.A.K'...\n",
            "remote: Enumerating objects: 2669, done.\u001b[K\n",
            "remote: Counting objects: 100% (312/312), done.\u001b[K\n",
            "remote: Compressing objects: 100% (172/172), done.\u001b[K\n",
            "remote: Total 2669 (delta 139), reused 312 (delta 139), pack-reused 2357\u001b[K\n",
            "Receiving objects: 100% (2669/2669), 485.05 MiB | 24.61 MiB/s, done.\n",
            "Resolving deltas: 100% (864/864), done.\n",
            "Updating files: 100% (3555/3555), done.\n"
          ]
        }
      ],
      "source": [
        "!git clone https://github.com/that-coding-kid/S.A.D.A.K.git"
      ]
    },
    {
      "cell_type": "code",
      "execution_count": 3,
      "metadata": {
        "colab": {
          "base_uri": "https://localhost:8080/"
        },
        "id": "A2oteWTYTOBP",
        "outputId": "8cb627fd-2262-43f9-a760-5908858616d4"
      },
      "outputs": [
        {
          "output_type": "stream",
          "name": "stdout",
          "text": [
            "\u001b[0m\u001b[01;34mS.A.D.A.K\u001b[0m/  \u001b[01;34msample_data\u001b[0m/\n"
          ]
        }
      ],
      "source": [
        "%ls"
      ]
    },
    {
      "cell_type": "code",
      "source": [
        "!pip install cython pillow>=7.0.0 numpy>=1.18.1 opencv-python>=4.1.2 torch>=1.9.0 --extra-index-url https://download.pytorch.org/whl/cpu torchvision>=0.10.0 --extra-index-url https://download.pytorch.org/whl/cpu pytest==7.1.3 tqdm==4.64.1 scipy>=1.7.3 matplotlib>=3.4.3 mock==4.0.3"
      ],
      "metadata": {
        "id": "9BchltC8UBb4"
      },
      "execution_count": 4,
      "outputs": []
    },
    {
      "cell_type": "code",
      "source": [
        "!pip install cython pillow>=7.0.0 numpy>=1.18.1 opencv-python>=4.1.2 torch>=1.9.0 --extra-index-url https://download.pytorch.org/whl/cu102 torchvision>=0.10.0 --extra-index-url https://download.pytorch.org/whl/cu102 pytest==7.1.3 tqdm==4.64.1 scipy>=1.7.3 matplotlib>=3.4.3 mock==4.0.3"
      ],
      "metadata": {
        "id": "5IFmOek_UDNq"
      },
      "execution_count": 5,
      "outputs": []
    },
    {
      "cell_type": "code",
      "source": [
        "!pip install imageai --upgrade"
      ],
      "metadata": {
        "colab": {
          "base_uri": "https://localhost:8080/"
        },
        "id": "BibEgizrUM8u",
        "outputId": "2d21b52d-b334-4f22-937e-b2aca96a9c1c"
      },
      "execution_count": 6,
      "outputs": [
        {
          "output_type": "stream",
          "name": "stdout",
          "text": [
            "Collecting imageai\n",
            "  Downloading imageai-3.0.3-py3-none-any.whl (69 kB)\n",
            "\u001b[?25l     \u001b[90m━━━━━━━━━━━━━━━━━━━━━━━━━━━━━━━━━━━━━━━━\u001b[0m \u001b[32m0.0/69.8 kB\u001b[0m \u001b[31m?\u001b[0m eta \u001b[36m-:--:--\u001b[0m\r\u001b[2K     \u001b[90m━━━━━━━━━━━━━━━━━━━━━━━━━━━━━━━━━━━━━━━━\u001b[0m \u001b[32m69.8/69.8 kB\u001b[0m \u001b[31m3.0 MB/s\u001b[0m eta \u001b[36m0:00:00\u001b[0m\n",
            "\u001b[?25hInstalling collected packages: imageai\n",
            "Successfully installed imageai-3.0.3\n"
          ]
        }
      ]
    },
    {
      "cell_type": "code",
      "source": [
        "from imageai.Detection.Custom import DetectionModelTrainer\n",
        "\n",
        "trainer = DetectionModelTrainer()\n",
        "trainer.setModelTypeAsTinyYOLOv3()\n",
        "trainer.setDataDirectory(data_directory=\"/content/S.A.D.A.K/datasets-yolo\")\n",
        "trainer.setTrainConfig(object_names_array=[\"potholes\", \"traffic_signs\", \"vehicles\", \"pedestrian\", \"unknown\"], batch_size=32, num_experiments=100, train_from_pretrained_model=\"/content/S.A.D.A.K/tiny-yolov3.pt\")\n",
        "trainer.trainModel()"
      ],
      "metadata": {
        "id": "kp5_p0Y5Udn4",
        "colab": {
          "base_uri": "https://localhost:8080/"
        },
        "outputId": "53bdbd4a-1c93-4e8d-aacd-333785c9be48"
      },
      "execution_count": null,
      "outputs": [
        {
          "metadata": {
            "tags": null
          },
          "name": "stderr",
          "output_type": "stream",
          "text": [
            "/usr/local/lib/python3.10/dist-packages/imageai/Detection/Custom/yolo/dataset.py:80: UserWarning: loadtxt: input contained no data: \"/content/S.A.D.A.K/datasets-yolo/train/annotations/Datacluster Traffic Sign (21).txt\"\n",
            "  l = np.loadtxt(label_path).reshape(-1,5)\n",
            "/usr/local/lib/python3.10/dist-packages/imageai/Detection/Custom/yolo/dataset.py:80: UserWarning: loadtxt: input contained no data: \"/content/S.A.D.A.K/datasets-yolo/train/annotations/Datacluster Traffic Sign (84).txt\"\n",
            "  l = np.loadtxt(label_path).reshape(-1,5)\n",
            "/usr/local/lib/python3.10/dist-packages/imageai/Detection/Custom/yolo/dataset.py:80: UserWarning: loadtxt: input contained no data: \"/content/S.A.D.A.K/datasets-yolo/train/annotations/Datacluster Traffic Sign (17).txt\"\n",
            "  l = np.loadtxt(label_path).reshape(-1,5)\n",
            "/usr/local/lib/python3.10/dist-packages/imageai/Detection/Custom/yolo/dataset.py:80: UserWarning: loadtxt: input contained no data: \"/content/S.A.D.A.K/datasets-yolo/train/annotations/Datacluster Traffic Sign (23).txt\"\n",
            "  l = np.loadtxt(label_path).reshape(-1,5)\n",
            "/usr/local/lib/python3.10/dist-packages/imageai/Detection/Custom/yolo/dataset.py:80: UserWarning: loadtxt: input contained no data: \"/content/S.A.D.A.K/datasets-yolo/train/annotations/Datacluster Traffic Sign (46).txt\"\n",
            "  l = np.loadtxt(label_path).reshape(-1,5)\n",
            "/usr/local/lib/python3.10/dist-packages/imageai/Detection/Custom/yolo/dataset.py:80: UserWarning: loadtxt: input contained no data: \"/content/S.A.D.A.K/datasets-yolo/train/annotations/Datacluster Traffic Sign (33).txt\"\n",
            "  l = np.loadtxt(label_path).reshape(-1,5)\n",
            "/usr/local/lib/python3.10/dist-packages/imageai/Detection/Custom/yolo/dataset.py:80: UserWarning: loadtxt: input contained no data: \"/content/S.A.D.A.K/datasets-yolo/train/annotations/Datacluster Traffic Sign (40).txt\"\n",
            "  l = np.loadtxt(label_path).reshape(-1,5)\n",
            "/usr/local/lib/python3.10/dist-packages/imageai/Detection/Custom/yolo/dataset.py:80: UserWarning: loadtxt: input contained no data: \"/content/S.A.D.A.K/datasets-yolo/train/annotations/000024_r_jpg.rf.4de7f9577cf35d2208603bfa72125f06.txt\"\n",
            "  l = np.loadtxt(label_path).reshape(-1,5)\n",
            "/usr/local/lib/python3.10/dist-packages/imageai/Detection/Custom/yolo/dataset.py:80: UserWarning: loadtxt: input contained no data: \"/content/S.A.D.A.K/datasets-yolo/train/annotations/Datacluster Traffic Sign (34).txt\"\n",
            "  l = np.loadtxt(label_path).reshape(-1,5)\n",
            "/usr/local/lib/python3.10/dist-packages/imageai/Detection/Custom/yolo/dataset.py:80: UserWarning: loadtxt: input contained no data: \"/content/S.A.D.A.K/datasets-yolo/train/annotations/Datacluster Traffic Sign (50).txt\"\n",
            "  l = np.loadtxt(label_path).reshape(-1,5)\n",
            "/usr/local/lib/python3.10/dist-packages/imageai/Detection/Custom/yolo/dataset.py:80: UserWarning: loadtxt: input contained no data: \"/content/S.A.D.A.K/datasets-yolo/train/annotations/Datacluster Traffic Sign (29).txt\"\n",
            "  l = np.loadtxt(label_path).reshape(-1,5)\n",
            "/usr/local/lib/python3.10/dist-packages/imageai/Detection/Custom/yolo/dataset.py:80: UserWarning: loadtxt: input contained no data: \"/content/S.A.D.A.K/datasets-yolo/train/annotations/Datacluster Traffic Sign (16).txt\"\n",
            "  l = np.loadtxt(label_path).reshape(-1,5)\n",
            "/usr/local/lib/python3.10/dist-packages/imageai/Detection/Custom/yolo/dataset.py:80: UserWarning: loadtxt: input contained no data: \"/content/S.A.D.A.K/datasets-yolo/train/annotations/Datacluster Traffic Sign (19).txt\"\n",
            "  l = np.loadtxt(label_path).reshape(-1,5)\n",
            "/usr/local/lib/python3.10/dist-packages/imageai/Detection/Custom/yolo/dataset.py:80: UserWarning: loadtxt: input contained no data: \"/content/S.A.D.A.K/datasets-yolo/train/annotations/KakaoTalk_20230407_154711521_05_jpg.rf.985f24482a80ed1087303d94b8ad72e5.txt\"\n",
            "  l = np.loadtxt(label_path).reshape(-1,5)\n",
            "/usr/local/lib/python3.10/dist-packages/imageai/Detection/Custom/yolo/dataset.py:80: UserWarning: loadtxt: input contained no data: \"/content/S.A.D.A.K/datasets-yolo/train/annotations/KakaoTalk_20230407_154711521_04_jpg.rf.fd0b0dcdc3ec099f0094d71e604e0ac7.txt\"\n",
            "  l = np.loadtxt(label_path).reshape(-1,5)\n",
            "/usr/local/lib/python3.10/dist-packages/imageai/Detection/Custom/yolo/dataset.py:80: UserWarning: loadtxt: input contained no data: \"/content/S.A.D.A.K/datasets-yolo/train/annotations/Datacluster Traffic Sign (18).txt\"\n",
            "  l = np.loadtxt(label_path).reshape(-1,5)\n",
            "/usr/local/lib/python3.10/dist-packages/imageai/Detection/Custom/yolo/dataset.py:80: UserWarning: loadtxt: input contained no data: \"/content/S.A.D.A.K/datasets-yolo/train/annotations/Datacluster Traffic Sign (9).txt\"\n",
            "  l = np.loadtxt(label_path).reshape(-1,5)\n",
            "/usr/local/lib/python3.10/dist-packages/imageai/Detection/Custom/yolo/dataset.py:80: UserWarning: loadtxt: input contained no data: \"/content/S.A.D.A.K/datasets-yolo/train/annotations/Datacluster Traffic Sign (13).txt\"\n",
            "  l = np.loadtxt(label_path).reshape(-1,5)\n",
            "/usr/local/lib/python3.10/dist-packages/imageai/Detection/Custom/yolo/dataset.py:80: UserWarning: loadtxt: input contained no data: \"/content/S.A.D.A.K/datasets-yolo/train/annotations/Datacluster Traffic Sign (105).txt\"\n",
            "  l = np.loadtxt(label_path).reshape(-1,5)\n",
            "/usr/local/lib/python3.10/dist-packages/imageai/Detection/Custom/yolo/dataset.py:80: UserWarning: loadtxt: input contained no data: \"/content/S.A.D.A.K/datasets-yolo/train/annotations/Datacluster Traffic Sign (69).txt\"\n",
            "  l = np.loadtxt(label_path).reshape(-1,5)\n",
            "/usr/local/lib/python3.10/dist-packages/imageai/Detection/Custom/yolo/dataset.py:80: UserWarning: loadtxt: input contained no data: \"/content/S.A.D.A.K/datasets-yolo/train/annotations/Datacluster Traffic Sign (109).txt\"\n",
            "  l = np.loadtxt(label_path).reshape(-1,5)\n",
            "/usr/local/lib/python3.10/dist-packages/imageai/Detection/Custom/yolo/dataset.py:80: UserWarning: loadtxt: input contained no data: \"/content/S.A.D.A.K/datasets-yolo/train/annotations/Datacluster Traffic Sign (15).txt\"\n",
            "  l = np.loadtxt(label_path).reshape(-1,5)\n",
            "/usr/local/lib/python3.10/dist-packages/imageai/Detection/Custom/yolo/dataset.py:80: UserWarning: loadtxt: input contained no data: \"/content/S.A.D.A.K/datasets-yolo/validation/annotations/Datacluster Traffic Sign (128).txt\"\n",
            "  l = np.loadtxt(label_path).reshape(-1,5)\n",
            "/usr/local/lib/python3.10/dist-packages/imageai/Detection/Custom/yolo/dataset.py:80: UserWarning: loadtxt: input contained no data: \"/content/S.A.D.A.K/datasets-yolo/validation/annotations/KakaoTalk_20230407_154711521_09_jpg.rf.4f93285d643b81e3bbea2af14b139106.txt\"\n",
            "  l = np.loadtxt(label_path).reshape(-1,5)\n"
          ]
        },
        {
          "metadata": {
            "tags": null
          },
          "name": "stdout",
          "output_type": "stream",
          "text": [
            "WARNING: Extremely small objects found. 23 of 1235 labels are < 3 pixels in size.\n",
            "Generating anchor boxes for training images...\n",
            "thr=0.25: 0.9709 best possible recall, 3.49 anchors past thr\n",
            "n=6, img_size=416, metric_all=0.349/0.693-mean/best, past_thr=0.501-mean: \n",
            "====================\n",
            "Pretrained YOLOv3 model loaded to initialize weights\n",
            "====================\n",
            "Epoch 1/100\n",
            "----------\n",
            "Train: \n"
          ]
        },
        {
          "metadata": {
            "tags": null
          },
          "name": "stderr",
          "output_type": "stream",
          "text": [
            "20it [00:34,  1.74s/it]\n"
          ]
        },
        {
          "metadata": {
            "tags": null
          },
          "name": "stdout",
          "output_type": "stream",
          "text": [
            "    box loss-> 0.07234, object loss-> 0.47397, class loss-> 0.04309\n",
            "Validation:\n"
          ]
        },
        {
          "metadata": {
            "tags": null
          },
          "name": "stderr",
          "output_type": "stream",
          "text": [
            "18it [04:14, 14.11s/it]\n"
          ]
        },
        {
          "metadata": {
            "tags": null
          },
          "name": "stdout",
          "output_type": "stream",
          "text": [
            "    recall: 0.001057 precision: 0.000984 mAP@0.5: 0.000242, mAP@0.5-0.95: 0.000055\n",
            "\n",
            "Epoch 2/100\n",
            "----------\n",
            "Train: \n"
          ]
        },
        {
          "metadata": {
            "tags": null
          },
          "name": "stderr",
          "output_type": "stream",
          "text": [
            "20it [00:30,  1.53s/it]\n"
          ]
        },
        {
          "metadata": {
            "tags": null
          },
          "name": "stdout",
          "output_type": "stream",
          "text": [
            "    box loss-> 0.06831, object loss-> 0.07719, class loss-> 0.03363\n",
            "Validation:\n"
          ]
        },
        {
          "metadata": {
            "tags": null
          },
          "name": "stderr",
          "output_type": "stream",
          "text": [
            "18it [03:51, 12.88s/it]\n"
          ]
        },
        {
          "metadata": {
            "tags": null
          },
          "name": "stdout",
          "output_type": "stream",
          "text": [
            "    recall: 0.010042 precision: 0.001525 mAP@0.5: 0.000741, mAP@0.5-0.95: 0.000139\n",
            "\n",
            "Epoch 3/100\n",
            "----------\n",
            "Train: \n"
          ]
        },
        {
          "metadata": {
            "tags": null
          },
          "name": "stderr",
          "output_type": "stream",
          "text": [
            "20it [00:28,  1.40s/it]\n"
          ]
        },
        {
          "metadata": {
            "tags": null
          },
          "name": "stdout",
          "output_type": "stream",
          "text": [
            "    box loss-> 0.06662, object loss-> 0.06970, class loss-> 0.02706\n",
            "Validation:\n"
          ]
        },
        {
          "metadata": {
            "tags": null
          },
          "name": "stderr",
          "output_type": "stream",
          "text": [
            "18it [03:27, 11.55s/it]\n"
          ]
        },
        {
          "metadata": {
            "tags": null
          },
          "name": "stdout",
          "output_type": "stream",
          "text": [
            "    recall: 0.020613 precision: 0.266850 mAP@0.5: 0.005761, mAP@0.5-0.95: 0.001102\n",
            "\n",
            "Epoch 4/100\n",
            "----------\n",
            "Train: \n"
          ]
        },
        {
          "metadata": {
            "tags": null
          },
          "name": "stderr",
          "output_type": "stream",
          "text": [
            "20it [00:27,  1.40s/it]\n"
          ]
        },
        {
          "metadata": {
            "tags": null
          },
          "name": "stdout",
          "output_type": "stream",
          "text": [
            "    box loss-> 0.06384, object loss-> 0.06854, class loss-> 0.02140\n",
            "Validation:\n"
          ]
        },
        {
          "metadata": {
            "tags": null
          },
          "name": "stderr",
          "output_type": "stream",
          "text": [
            "18it [03:18, 11.00s/it]\n"
          ]
        },
        {
          "metadata": {
            "tags": null
          },
          "name": "stdout",
          "output_type": "stream",
          "text": [
            "    recall: 0.106002 precision: 0.128801 mAP@0.5: 0.024292, mAP@0.5-0.95: 0.003196\n",
            "\n",
            "Epoch 5/100\n",
            "----------\n",
            "Train: \n"
          ]
        },
        {
          "metadata": {
            "tags": null
          },
          "name": "stderr",
          "output_type": "stream",
          "text": [
            "20it [00:28,  1.42s/it]\n"
          ]
        },
        {
          "metadata": {
            "tags": null
          },
          "name": "stdout",
          "output_type": "stream",
          "text": [
            "    box loss-> 0.06240, object loss-> 0.06598, class loss-> 0.01773\n",
            "Validation:\n"
          ]
        },
        {
          "output_type": "stream",
          "name": "stderr",
          "text": [
            "18it [03:09, 10.51s/it]\n"
          ]
        },
        {
          "output_type": "stream",
          "name": "stdout",
          "text": [
            "    recall: 0.044397 precision: 0.283850 mAP@0.5: 0.013828, mAP@0.5-0.95: 0.002366\n",
            "\n",
            "Epoch 6/100\n",
            "----------\n",
            "Train: \n"
          ]
        },
        {
          "output_type": "stream",
          "name": "stderr",
          "text": [
            "20it [00:27,  1.38s/it]\n"
          ]
        },
        {
          "output_type": "stream",
          "name": "stdout",
          "text": [
            "    box loss-> 0.06128, object loss-> 0.06620, class loss-> 0.01626\n",
            "Validation:\n"
          ]
        },
        {
          "output_type": "stream",
          "name": "stderr",
          "text": [
            "18it [03:04, 10.26s/it]\n"
          ]
        },
        {
          "output_type": "stream",
          "name": "stdout",
          "text": [
            "    recall: 0.039433 precision: 0.297873 mAP@0.5: 0.017041, mAP@0.5-0.95: 0.003383\n",
            "\n",
            "Epoch 7/100\n",
            "----------\n",
            "Train: \n"
          ]
        },
        {
          "output_type": "stream",
          "name": "stderr",
          "text": [
            "20it [00:28,  1.43s/it]\n"
          ]
        },
        {
          "output_type": "stream",
          "name": "stdout",
          "text": [
            "    box loss-> 0.05940, object loss-> 0.06974, class loss-> 0.01334\n",
            "Validation:\n"
          ]
        },
        {
          "output_type": "stream",
          "name": "stderr",
          "text": [
            "18it [03:05, 10.33s/it]\n"
          ]
        },
        {
          "output_type": "stream",
          "name": "stdout",
          "text": [
            "    recall: 0.048097 precision: 0.296622 mAP@0.5: 0.020452, mAP@0.5-0.95: 0.003939\n",
            "\n",
            "Epoch 8/100\n",
            "----------\n",
            "Train: \n"
          ]
        },
        {
          "output_type": "stream",
          "name": "stderr",
          "text": [
            "20it [00:28,  1.41s/it]\n"
          ]
        },
        {
          "output_type": "stream",
          "name": "stdout",
          "text": [
            "    box loss-> 0.05756, object loss-> 0.06235, class loss-> 0.01216\n",
            "Validation:\n"
          ]
        },
        {
          "output_type": "stream",
          "name": "stderr",
          "text": [
            "18it [02:56,  9.83s/it]\n"
          ]
        },
        {
          "output_type": "stream",
          "name": "stdout",
          "text": [
            "    recall: 0.048626 precision: 0.303257 mAP@0.5: 0.024060, mAP@0.5-0.95: 0.005155\n",
            "\n",
            "Epoch 9/100\n",
            "----------\n",
            "Train: \n"
          ]
        },
        {
          "output_type": "stream",
          "name": "stderr",
          "text": [
            "20it [00:27,  1.35s/it]\n"
          ]
        },
        {
          "output_type": "stream",
          "name": "stdout",
          "text": [
            "    box loss-> 0.05697, object loss-> 0.06323, class loss-> 0.01052\n",
            "Validation:\n"
          ]
        },
        {
          "output_type": "stream",
          "name": "stderr",
          "text": [
            "18it [02:51,  9.51s/it]\n"
          ]
        },
        {
          "output_type": "stream",
          "name": "stdout",
          "text": [
            "    recall: 0.047040 precision: 0.315991 mAP@0.5: 0.027857, mAP@0.5-0.95: 0.006347\n",
            "\n",
            "Epoch 10/100\n",
            "----------\n",
            "Train: \n"
          ]
        },
        {
          "output_type": "stream",
          "name": "stderr",
          "text": [
            "20it [00:27,  1.39s/it]\n"
          ]
        },
        {
          "output_type": "stream",
          "name": "stdout",
          "text": [
            "    box loss-> 0.05470, object loss-> 0.06459, class loss-> 0.00972\n",
            "Validation:\n"
          ]
        },
        {
          "output_type": "stream",
          "name": "stderr",
          "text": [
            "18it [02:45,  9.20s/it]\n"
          ]
        },
        {
          "output_type": "stream",
          "name": "stdout",
          "text": [
            "    recall: 0.117101 precision: 0.276171 mAP@0.5: 0.058875, mAP@0.5-0.95: 0.009184\n",
            "\n",
            "Epoch 11/100\n",
            "----------\n",
            "Train: \n"
          ]
        },
        {
          "output_type": "stream",
          "name": "stderr",
          "text": [
            "20it [00:28,  1.42s/it]\n"
          ]
        },
        {
          "output_type": "stream",
          "name": "stdout",
          "text": [
            "    box loss-> 0.05411, object loss-> 0.05921, class loss-> 0.00878\n",
            "Validation:\n"
          ]
        },
        {
          "output_type": "stream",
          "name": "stderr",
          "text": [
            "18it [02:51,  9.50s/it]\n"
          ]
        },
        {
          "output_type": "stream",
          "name": "stdout",
          "text": [
            "    recall: 0.084860 precision: 0.239240 mAP@0.5: 0.063686, mAP@0.5-0.95: 0.023393\n",
            "\n",
            "Epoch 12/100\n",
            "----------\n",
            "Train: \n"
          ]
        },
        {
          "output_type": "stream",
          "name": "stderr",
          "text": [
            "20it [00:27,  1.40s/it]\n"
          ]
        },
        {
          "output_type": "stream",
          "name": "stdout",
          "text": [
            "    box loss-> 0.05235, object loss-> 0.05957, class loss-> 0.00803\n",
            "Validation:\n"
          ]
        },
        {
          "output_type": "stream",
          "name": "stderr",
          "text": [
            "18it [02:47,  9.29s/it]\n"
          ]
        },
        {
          "output_type": "stream",
          "name": "stdout",
          "text": [
            "    recall: 0.075346 precision: 0.329282 mAP@0.5: 0.068164, mAP@0.5-0.95: 0.018376\n",
            "\n",
            "Epoch 13/100\n",
            "----------\n",
            "Train: \n"
          ]
        },
        {
          "output_type": "stream",
          "name": "stderr",
          "text": [
            "20it [00:27,  1.39s/it]\n"
          ]
        },
        {
          "output_type": "stream",
          "name": "stdout",
          "text": [
            "    box loss-> 0.05072, object loss-> 0.05737, class loss-> 0.00798\n",
            "Validation:\n"
          ]
        },
        {
          "output_type": "stream",
          "name": "stderr",
          "text": [
            "18it [02:37,  8.75s/it]\n"
          ]
        },
        {
          "output_type": "stream",
          "name": "stdout",
          "text": [
            "    recall: 0.076404 precision: 0.211917 mAP@0.5: 0.053974, mAP@0.5-0.95: 0.016204\n",
            "\n",
            "Epoch 14/100\n",
            "----------\n",
            "Train: \n"
          ]
        },
        {
          "output_type": "stream",
          "name": "stderr",
          "text": [
            "20it [00:27,  1.36s/it]\n"
          ]
        },
        {
          "output_type": "stream",
          "name": "stdout",
          "text": [
            "    box loss-> 0.04936, object loss-> 0.05673, class loss-> 0.00651\n",
            "Validation:\n"
          ]
        },
        {
          "output_type": "stream",
          "name": "stderr",
          "text": [
            "18it [02:32,  8.48s/it]\n"
          ]
        },
        {
          "output_type": "stream",
          "name": "stdout",
          "text": [
            "    recall: 0.113161 precision: 0.200476 mAP@0.5: 0.092299, mAP@0.5-0.95: 0.017577\n",
            "\n",
            "Epoch 15/100\n",
            "----------\n",
            "Train: \n"
          ]
        },
        {
          "output_type": "stream",
          "name": "stderr",
          "text": [
            "20it [00:28,  1.41s/it]\n"
          ]
        },
        {
          "output_type": "stream",
          "name": "stdout",
          "text": [
            "    box loss-> 0.05011, object loss-> 0.05356, class loss-> 0.00638\n",
            "Validation:\n"
          ]
        },
        {
          "output_type": "stream",
          "name": "stderr",
          "text": [
            "18it [02:33,  8.54s/it]\n"
          ]
        },
        {
          "output_type": "stream",
          "name": "stdout",
          "text": [
            "    recall: 0.121007 precision: 0.152394 mAP@0.5: 0.085118, mAP@0.5-0.95: 0.022162\n",
            "\n",
            "Epoch 16/100\n",
            "----------\n",
            "Train: \n"
          ]
        },
        {
          "output_type": "stream",
          "name": "stderr",
          "text": [
            "20it [00:27,  1.39s/it]\n"
          ]
        },
        {
          "output_type": "stream",
          "name": "stdout",
          "text": [
            "    box loss-> 0.04651, object loss-> 0.05302, class loss-> 0.00700\n",
            "Validation:\n"
          ]
        },
        {
          "output_type": "stream",
          "name": "stderr",
          "text": [
            "18it [02:22,  7.94s/it]\n"
          ]
        },
        {
          "output_type": "stream",
          "name": "stdout",
          "text": [
            "    recall: 0.099424 precision: 0.359266 mAP@0.5: 0.107595, mAP@0.5-0.95: 0.027621\n",
            "\n",
            "Epoch 17/100\n",
            "----------\n",
            "Train: \n"
          ]
        },
        {
          "output_type": "stream",
          "name": "stderr",
          "text": [
            "20it [00:28,  1.45s/it]\n"
          ]
        },
        {
          "output_type": "stream",
          "name": "stdout",
          "text": [
            "    box loss-> 0.04664, object loss-> 0.05125, class loss-> 0.00512\n",
            "Validation:\n"
          ]
        },
        {
          "output_type": "stream",
          "name": "stderr",
          "text": [
            "18it [02:12,  7.36s/it]\n"
          ]
        },
        {
          "output_type": "stream",
          "name": "stdout",
          "text": [
            "    recall: 0.122152 precision: 0.175117 mAP@0.5: 0.096920, mAP@0.5-0.95: 0.040394\n",
            "\n",
            "Epoch 18/100\n",
            "----------\n",
            "Train: \n"
          ]
        },
        {
          "output_type": "stream",
          "name": "stderr",
          "text": [
            "20it [00:27,  1.39s/it]\n"
          ]
        },
        {
          "output_type": "stream",
          "name": "stdout",
          "text": [
            "    box loss-> 0.04533, object loss-> 0.05127, class loss-> 0.00504\n",
            "Validation:\n"
          ]
        },
        {
          "output_type": "stream",
          "name": "stderr",
          "text": [
            "18it [02:05,  6.98s/it]\n"
          ]
        },
        {
          "output_type": "stream",
          "name": "stdout",
          "text": [
            "    recall: 0.127437 precision: 0.158117 mAP@0.5: 0.081348, mAP@0.5-0.95: 0.026433\n",
            "\n",
            "Epoch 19/100\n",
            "----------\n",
            "Train: \n"
          ]
        },
        {
          "output_type": "stream",
          "name": "stderr",
          "text": [
            "20it [00:27,  1.39s/it]\n"
          ]
        },
        {
          "output_type": "stream",
          "name": "stdout",
          "text": [
            "    box loss-> 0.04475, object loss-> 0.04717, class loss-> 0.00460\n",
            "Validation:\n"
          ]
        },
        {
          "output_type": "stream",
          "name": "stderr",
          "text": [
            "18it [01:59,  6.61s/it]\n"
          ]
        },
        {
          "output_type": "stream",
          "name": "stdout",
          "text": [
            "    recall: 0.111052 precision: 0.184190 mAP@0.5: 0.079740, mAP@0.5-0.95: 0.028328\n",
            "\n",
            "Epoch 20/100\n",
            "----------\n",
            "Train: \n"
          ]
        },
        {
          "output_type": "stream",
          "name": "stderr",
          "text": [
            "20it [00:29,  1.48s/it]\n"
          ]
        },
        {
          "output_type": "stream",
          "name": "stdout",
          "text": [
            "    box loss-> 0.04314, object loss-> 0.04947, class loss-> 0.00401\n",
            "Validation:\n"
          ]
        },
        {
          "output_type": "stream",
          "name": "stderr",
          "text": [
            "18it [01:53,  6.32s/it]\n"
          ]
        },
        {
          "output_type": "stream",
          "name": "stdout",
          "text": [
            "    recall: 0.141982 precision: 0.479704 mAP@0.5: 0.116613, mAP@0.5-0.95: 0.037199\n",
            "\n",
            "Epoch 21/100\n",
            "----------\n",
            "Train: \n"
          ]
        },
        {
          "output_type": "stream",
          "name": "stderr",
          "text": [
            "20it [00:27,  1.40s/it]\n"
          ]
        },
        {
          "output_type": "stream",
          "name": "stdout",
          "text": [
            "    box loss-> 0.04300, object loss-> 0.04566, class loss-> 0.00365\n",
            "Validation:\n"
          ]
        },
        {
          "output_type": "stream",
          "name": "stderr",
          "text": [
            "18it [01:44,  5.81s/it]\n"
          ]
        },
        {
          "output_type": "stream",
          "name": "stdout",
          "text": [
            "    recall: 0.185027 precision: 0.580274 mAP@0.5: 0.184358, mAP@0.5-0.95: 0.071173\n",
            "\n",
            "Epoch 22/100\n",
            "----------\n",
            "Train: \n"
          ]
        },
        {
          "output_type": "stream",
          "name": "stderr",
          "text": [
            "20it [00:28,  1.41s/it]\n"
          ]
        },
        {
          "output_type": "stream",
          "name": "stdout",
          "text": [
            "    box loss-> 0.04267, object loss-> 0.04262, class loss-> 0.00419\n",
            "Validation:\n"
          ]
        },
        {
          "output_type": "stream",
          "name": "stderr",
          "text": [
            "4it [00:23,  5.74s/it]"
          ]
        }
      ]
    }
  ],
  "metadata": {
    "accelerator": "GPU",
    "colab": {
      "gpuType": "T4",
      "provenance": []
    },
    "kernelspec": {
      "display_name": "Python 3",
      "name": "python3"
    },
    "language_info": {
      "name": "python"
    }
  },
  "nbformat": 4,
  "nbformat_minor": 0
}